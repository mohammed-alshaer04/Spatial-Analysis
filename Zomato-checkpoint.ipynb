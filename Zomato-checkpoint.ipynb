{
 "cells": [
  {
   "cell_type": "code",
   "execution_count": 4,
   "id": "4ed54191-ac20-4ed3-8246-b641ef092960",
   "metadata": {},
   "outputs": [],
   "source": [
    "import numpy as np\n",
    "import seaborn as sns\n",
    "import matplotlib.pyplot as plt\n",
    "import sqlite3"
   ]
  },
  {
   "cell_type": "code",
   "execution_count": 5,
   "id": "8aff1b1e-e4df-4bff-8da7-5abb3ea5e115",
   "metadata": {},
   "outputs": [],
   "source": [
    "conn = sqlite3.connect(r'D:\\University\\7th semester\\Data analysis\\Resources/zomato_rawdata.sqlite')\n",
    "cursor = conn.cursor()"
   ]
  },
  {
   "cell_type": "code",
   "execution_count": 6,
   "id": "2e93b5e7-f273-46fa-89bd-c59baad46c9d",
   "metadata": {},
   "outputs": [],
   "source": [
    "cursor.execute(\"SELECT name FROM sqlite_master WHERE type='table';\")\n",
    "tables = cursor.fetchall()"
   ]
  },
  {
   "cell_type": "code",
   "execution_count": 7,
   "id": "405f0cbc-482f-4278-a257-16b693d7a16a",
   "metadata": {},
   "outputs": [
    {
     "name": "stdout",
     "output_type": "stream",
     "text": [
      "[('Users',)]\n"
     ]
    }
   ],
   "source": [
    "print(tables)"
   ]
  },
  {
   "cell_type": "code",
   "execution_count": 8,
   "id": "2dab6a79-3563-455f-88e7-8809e2a15154",
   "metadata": {},
   "outputs": [],
   "source": [
    "import pandas as pd"
   ]
  },
  {
   "cell_type": "code",
   "execution_count": 9,
   "id": "6392e669-67f7-4fab-8fb8-136ee36d36ea",
   "metadata": {},
   "outputs": [
    {
     "data": {
      "text/html": [
       "<div>\n",
       "<style scoped>\n",
       "    .dataframe tbody tr th:only-of-type {\n",
       "        vertical-align: middle;\n",
       "    }\n",
       "\n",
       "    .dataframe tbody tr th {\n",
       "        vertical-align: top;\n",
       "    }\n",
       "\n",
       "    .dataframe thead th {\n",
       "        text-align: right;\n",
       "    }\n",
       "</style>\n",
       "<table border=\"1\" class=\"dataframe\">\n",
       "  <thead>\n",
       "    <tr style=\"text-align: right;\">\n",
       "      <th></th>\n",
       "      <th>index</th>\n",
       "      <th>url</th>\n",
       "      <th>address</th>\n",
       "      <th>name</th>\n",
       "      <th>online_order</th>\n",
       "      <th>book_table</th>\n",
       "      <th>rate</th>\n",
       "      <th>votes</th>\n",
       "      <th>phone</th>\n",
       "      <th>location</th>\n",
       "      <th>rest_type</th>\n",
       "      <th>dish_liked</th>\n",
       "      <th>cuisines</th>\n",
       "      <th>approx_cost(for two people)</th>\n",
       "      <th>reviews_list</th>\n",
       "      <th>menu_item</th>\n",
       "      <th>listed_in(type)</th>\n",
       "      <th>listed_in(city)</th>\n",
       "    </tr>\n",
       "  </thead>\n",
       "  <tbody>\n",
       "    <tr>\n",
       "      <th>0</th>\n",
       "      <td>0</td>\n",
       "      <td>https://www.zomato.com/bangalore/jalsa-banasha...</td>\n",
       "      <td>942, 21st Main Road, 2nd Stage, Banashankari, ...</td>\n",
       "      <td>Jalsa</td>\n",
       "      <td>Yes</td>\n",
       "      <td>Yes</td>\n",
       "      <td>4.1/5</td>\n",
       "      <td>775</td>\n",
       "      <td>080 42297555\\r\\n+91 9743772233</td>\n",
       "      <td>Banashankari</td>\n",
       "      <td>Casual Dining</td>\n",
       "      <td>Pasta, Lunch Buffet, Masala Papad, Paneer Laja...</td>\n",
       "      <td>North Indian, Mughlai, Chinese</td>\n",
       "      <td>800</td>\n",
       "      <td>[('Rated 4.0', 'RATED\\n  A beautiful place to ...</td>\n",
       "      <td>[]</td>\n",
       "      <td>Buffet</td>\n",
       "      <td>Banashankari</td>\n",
       "    </tr>\n",
       "    <tr>\n",
       "      <th>1</th>\n",
       "      <td>1</td>\n",
       "      <td>https://www.zomato.com/bangalore/spice-elephan...</td>\n",
       "      <td>2nd Floor, 80 Feet Road, Near Big Bazaar, 6th ...</td>\n",
       "      <td>Spice Elephant</td>\n",
       "      <td>Yes</td>\n",
       "      <td>No</td>\n",
       "      <td>4.1/5</td>\n",
       "      <td>787</td>\n",
       "      <td>080 41714161</td>\n",
       "      <td>Banashankari</td>\n",
       "      <td>Casual Dining</td>\n",
       "      <td>Momos, Lunch Buffet, Chocolate Nirvana, Thai G...</td>\n",
       "      <td>Chinese, North Indian, Thai</td>\n",
       "      <td>800</td>\n",
       "      <td>[('Rated 4.0', 'RATED\\n  Had been here for din...</td>\n",
       "      <td>[]</td>\n",
       "      <td>Buffet</td>\n",
       "      <td>Banashankari</td>\n",
       "    </tr>\n",
       "    <tr>\n",
       "      <th>2</th>\n",
       "      <td>2</td>\n",
       "      <td>https://www.zomato.com/SanchurroBangalore?cont...</td>\n",
       "      <td>1112, Next to KIMS Medical College, 17th Cross...</td>\n",
       "      <td>San Churro Cafe</td>\n",
       "      <td>Yes</td>\n",
       "      <td>No</td>\n",
       "      <td>3.8/5</td>\n",
       "      <td>918</td>\n",
       "      <td>+91 9663487993</td>\n",
       "      <td>Banashankari</td>\n",
       "      <td>Cafe, Casual Dining</td>\n",
       "      <td>Churros, Cannelloni, Minestrone Soup, Hot Choc...</td>\n",
       "      <td>Cafe, Mexican, Italian</td>\n",
       "      <td>800</td>\n",
       "      <td>[('Rated 3.0', \"RATED\\n  Ambience is not that ...</td>\n",
       "      <td>[]</td>\n",
       "      <td>Buffet</td>\n",
       "      <td>Banashankari</td>\n",
       "    </tr>\n",
       "    <tr>\n",
       "      <th>3</th>\n",
       "      <td>3</td>\n",
       "      <td>https://www.zomato.com/bangalore/addhuri-udupi...</td>\n",
       "      <td>1st Floor, Annakuteera, 3rd Stage, Banashankar...</td>\n",
       "      <td>Addhuri Udupi Bhojana</td>\n",
       "      <td>No</td>\n",
       "      <td>No</td>\n",
       "      <td>3.7/5</td>\n",
       "      <td>88</td>\n",
       "      <td>+91 9620009302</td>\n",
       "      <td>Banashankari</td>\n",
       "      <td>Quick Bites</td>\n",
       "      <td>Masala Dosa</td>\n",
       "      <td>South Indian, North Indian</td>\n",
       "      <td>300</td>\n",
       "      <td>[('Rated 4.0', \"RATED\\n  Great food and proper...</td>\n",
       "      <td>[]</td>\n",
       "      <td>Buffet</td>\n",
       "      <td>Banashankari</td>\n",
       "    </tr>\n",
       "    <tr>\n",
       "      <th>4</th>\n",
       "      <td>4</td>\n",
       "      <td>https://www.zomato.com/bangalore/grand-village...</td>\n",
       "      <td>10, 3rd Floor, Lakshmi Associates, Gandhi Baza...</td>\n",
       "      <td>Grand Village</td>\n",
       "      <td>No</td>\n",
       "      <td>No</td>\n",
       "      <td>3.8/5</td>\n",
       "      <td>166</td>\n",
       "      <td>+91 8026612447\\r\\n+91 9901210005</td>\n",
       "      <td>Basavanagudi</td>\n",
       "      <td>Casual Dining</td>\n",
       "      <td>Panipuri, Gol Gappe</td>\n",
       "      <td>North Indian, Rajasthani</td>\n",
       "      <td>600</td>\n",
       "      <td>[('Rated 4.0', 'RATED\\n  Very good restaurant ...</td>\n",
       "      <td>[]</td>\n",
       "      <td>Buffet</td>\n",
       "      <td>Banashankari</td>\n",
       "    </tr>\n",
       "  </tbody>\n",
       "</table>\n",
       "</div>"
      ],
      "text/plain": [
       "   index                                                url  \\\n",
       "0      0  https://www.zomato.com/bangalore/jalsa-banasha...   \n",
       "1      1  https://www.zomato.com/bangalore/spice-elephan...   \n",
       "2      2  https://www.zomato.com/SanchurroBangalore?cont...   \n",
       "3      3  https://www.zomato.com/bangalore/addhuri-udupi...   \n",
       "4      4  https://www.zomato.com/bangalore/grand-village...   \n",
       "\n",
       "                                             address                   name  \\\n",
       "0  942, 21st Main Road, 2nd Stage, Banashankari, ...                  Jalsa   \n",
       "1  2nd Floor, 80 Feet Road, Near Big Bazaar, 6th ...         Spice Elephant   \n",
       "2  1112, Next to KIMS Medical College, 17th Cross...        San Churro Cafe   \n",
       "3  1st Floor, Annakuteera, 3rd Stage, Banashankar...  Addhuri Udupi Bhojana   \n",
       "4  10, 3rd Floor, Lakshmi Associates, Gandhi Baza...          Grand Village   \n",
       "\n",
       "  online_order book_table   rate  votes                             phone  \\\n",
       "0          Yes        Yes  4.1/5    775    080 42297555\\r\\n+91 9743772233   \n",
       "1          Yes         No  4.1/5    787                      080 41714161   \n",
       "2          Yes         No  3.8/5    918                    +91 9663487993   \n",
       "3           No         No  3.7/5     88                    +91 9620009302   \n",
       "4           No         No  3.8/5    166  +91 8026612447\\r\\n+91 9901210005   \n",
       "\n",
       "       location            rest_type  \\\n",
       "0  Banashankari        Casual Dining   \n",
       "1  Banashankari        Casual Dining   \n",
       "2  Banashankari  Cafe, Casual Dining   \n",
       "3  Banashankari          Quick Bites   \n",
       "4  Basavanagudi        Casual Dining   \n",
       "\n",
       "                                          dish_liked  \\\n",
       "0  Pasta, Lunch Buffet, Masala Papad, Paneer Laja...   \n",
       "1  Momos, Lunch Buffet, Chocolate Nirvana, Thai G...   \n",
       "2  Churros, Cannelloni, Minestrone Soup, Hot Choc...   \n",
       "3                                        Masala Dosa   \n",
       "4                                Panipuri, Gol Gappe   \n",
       "\n",
       "                         cuisines approx_cost(for two people)  \\\n",
       "0  North Indian, Mughlai, Chinese                         800   \n",
       "1     Chinese, North Indian, Thai                         800   \n",
       "2          Cafe, Mexican, Italian                         800   \n",
       "3      South Indian, North Indian                         300   \n",
       "4        North Indian, Rajasthani                         600   \n",
       "\n",
       "                                        reviews_list menu_item  \\\n",
       "0  [('Rated 4.0', 'RATED\\n  A beautiful place to ...        []   \n",
       "1  [('Rated 4.0', 'RATED\\n  Had been here for din...        []   \n",
       "2  [('Rated 3.0', \"RATED\\n  Ambience is not that ...        []   \n",
       "3  [('Rated 4.0', \"RATED\\n  Great food and proper...        []   \n",
       "4  [('Rated 4.0', 'RATED\\n  Very good restaurant ...        []   \n",
       "\n",
       "  listed_in(type) listed_in(city)  \n",
       "0          Buffet    Banashankari  \n",
       "1          Buffet    Banashankari  \n",
       "2          Buffet    Banashankari  \n",
       "3          Buffet    Banashankari  \n",
       "4          Buffet    Banashankari  "
      ]
     },
     "execution_count": 9,
     "metadata": {},
     "output_type": "execute_result"
    }
   ],
   "source": [
    "pd.read_sql_query(\"SELECT * FROM Users\", conn).head()"
   ]
  },
  {
   "cell_type": "code",
   "execution_count": 10,
   "id": "3b588fa9-73f4-4303-a54c-990fc88653f0",
   "metadata": {},
   "outputs": [],
   "source": [
    "df = pd.read_sql_query(\"SELECT * FROM Users\", conn)"
   ]
  },
  {
   "cell_type": "code",
   "execution_count": 11,
   "id": "52e58b82-44f1-42a0-8e74-a597300779dd",
   "metadata": {},
   "outputs": [
    {
     "data": {
      "text/plain": [
       "(51717, 18)"
      ]
     },
     "execution_count": 11,
     "metadata": {},
     "output_type": "execute_result"
    }
   ],
   "source": [
    "df.shape"
   ]
  },
  {
   "cell_type": "code",
   "execution_count": 12,
   "id": "47cf2d6d-6087-435c-af1f-9f43cbf800ac",
   "metadata": {},
   "outputs": [
    {
     "data": {
      "text/plain": [
       "Index(['index', 'url', 'address', 'name', 'online_order', 'book_table', 'rate',\n",
       "       'votes', 'phone', 'location', 'rest_type', 'dish_liked', 'cuisines',\n",
       "       'approx_cost(for two people)', 'reviews_list', 'menu_item',\n",
       "       'listed_in(type)', 'listed_in(city)'],\n",
       "      dtype='object')"
      ]
     },
     "execution_count": 12,
     "metadata": {},
     "output_type": "execute_result"
    }
   ],
   "source": [
    "df.columns"
   ]
  },
  {
   "cell_type": "code",
   "execution_count": 13,
   "id": "fed5bbb7-1c98-461f-90c9-0e588376f5ff",
   "metadata": {},
   "outputs": [
    {
     "data": {
      "text/plain": [
       "index                           0.000000\n",
       "url                             0.000000\n",
       "address                         0.000000\n",
       "name                            0.000000\n",
       "online_order                    0.000000\n",
       "book_table                      0.000000\n",
       "rate                           15.033741\n",
       "votes                           0.000000\n",
       "phone                           2.335789\n",
       "location                        0.040606\n",
       "rest_type                       0.438927\n",
       "dish_liked                     54.291626\n",
       "cuisines                        0.087012\n",
       "approx_cost(for two people)     0.669026\n",
       "reviews_list                    0.000000\n",
       "menu_item                       0.000000\n",
       "listed_in(type)                 0.000000\n",
       "listed_in(city)                 0.000000\n",
       "dtype: float64"
      ]
     },
     "execution_count": 13,
     "metadata": {},
     "output_type": "execute_result"
    }
   ],
   "source": [
    "df.isnull().sum()/len(df) * 100"
   ]
  },
  {
   "cell_type": "code",
   "execution_count": 14,
   "id": "29770639-d77f-46f0-9b0f-b84d66852262",
   "metadata": {},
   "outputs": [
    {
     "data": {
      "text/plain": [
       "array(['4.1/5', '3.8/5', '3.7/5', '3.6/5', '4.6/5', '4.0/5', '4.2/5',\n",
       "       '3.9/5', '3.1/5', '3.0/5', '3.2/5', '3.3/5', '2.8/5', '4.4/5',\n",
       "       '4.3/5', 'NEW', '2.9/5', '3.5/5', None, '2.6/5', '3.8 /5', '3.4/5',\n",
       "       '4.5/5', '2.5/5', '2.7/5', '4.7/5', '2.4/5', '2.2/5', '2.3/5',\n",
       "       '3.4 /5', '-', '3.6 /5', '4.8/5', '3.9 /5', '4.2 /5', '4.0 /5',\n",
       "       '4.1 /5', '3.7 /5', '3.1 /5', '2.9 /5', '3.3 /5', '2.8 /5',\n",
       "       '3.5 /5', '2.7 /5', '2.5 /5', '3.2 /5', '2.6 /5', '4.5 /5',\n",
       "       '4.3 /5', '4.4 /5', '4.9/5', '2.1/5', '2.0/5', '1.8/5', '4.6 /5',\n",
       "       '4.9 /5', '3.0 /5', '4.8 /5', '2.3 /5', '4.7 /5', '2.4 /5',\n",
       "       '2.1 /5', '2.2 /5', '2.0 /5', '1.8 /5'], dtype=object)"
      ]
     },
     "execution_count": 14,
     "metadata": {},
     "output_type": "execute_result"
    }
   ],
   "source": [
    "df['rate'].unique()"
   ]
  },
  {
   "cell_type": "code",
   "execution_count": 15,
   "id": "2cafe923-d2dd-436f-a600-31ec6dc3a736",
   "metadata": {},
   "outputs": [
    {
     "name": "stderr",
     "output_type": "stream",
     "text": [
      "C:\\Users\\Mohammed R. Alshaer\\AppData\\Local\\Temp\\ipykernel_11152\\921119561.py:1: FutureWarning: A value is trying to be set on a copy of a DataFrame or Series through chained assignment using an inplace method.\n",
      "The behavior will change in pandas 3.0. This inplace method will never work because the intermediate object on which we are setting values always behaves as a copy.\n",
      "\n",
      "For example, when doing 'df[col].method(value, inplace=True)', try using 'df.method({col: value}, inplace=True)' or df[col] = df[col].method(value) instead, to perform the operation inplace on the original object.\n",
      "\n",
      "\n",
      "  df['rate'].replace(('NEW', '-'), np.nan, inplace = True)\n"
     ]
    }
   ],
   "source": [
    "df['rate'].replace(('NEW', '-'), np.nan, inplace = True)"
   ]
  },
  {
   "cell_type": "code",
   "execution_count": 16,
   "id": "9bfb5a0a-2987-4f7a-a41c-901984930ea7",
   "metadata": {},
   "outputs": [
    {
     "data": {
      "text/plain": [
       "array(['4.1/5', '3.8/5', '3.7/5', '3.6/5', '4.6/5', '4.0/5', '4.2/5',\n",
       "       '3.9/5', '3.1/5', '3.0/5', '3.2/5', '3.3/5', '2.8/5', '4.4/5',\n",
       "       '4.3/5', nan, '2.9/5', '3.5/5', None, '2.6/5', '3.8 /5', '3.4/5',\n",
       "       '4.5/5', '2.5/5', '2.7/5', '4.7/5', '2.4/5', '2.2/5', '2.3/5',\n",
       "       '3.4 /5', '3.6 /5', '4.8/5', '3.9 /5', '4.2 /5', '4.0 /5',\n",
       "       '4.1 /5', '3.7 /5', '3.1 /5', '2.9 /5', '3.3 /5', '2.8 /5',\n",
       "       '3.5 /5', '2.7 /5', '2.5 /5', '3.2 /5', '2.6 /5', '4.5 /5',\n",
       "       '4.3 /5', '4.4 /5', '4.9/5', '2.1/5', '2.0/5', '1.8/5', '4.6 /5',\n",
       "       '4.9 /5', '3.0 /5', '4.8 /5', '2.3 /5', '4.7 /5', '2.4 /5',\n",
       "       '2.1 /5', '2.2 /5', '2.0 /5', '1.8 /5'], dtype=object)"
      ]
     },
     "execution_count": 16,
     "metadata": {},
     "output_type": "execute_result"
    }
   ],
   "source": [
    "df['rate'].unique()"
   ]
  },
  {
   "cell_type": "code",
   "execution_count": 17,
   "id": "5de60e0d-70ff-4bb8-9af0-4153fbec1b5a",
   "metadata": {},
   "outputs": [
    {
     "data": {
      "text/plain": [
       "'4.1'"
      ]
     },
     "execution_count": 17,
     "metadata": {},
     "output_type": "execute_result"
    }
   ],
   "source": [
    "'4.1/5'.split('/')[0]"
   ]
  },
  {
   "cell_type": "code",
   "execution_count": 18,
   "id": "088e2567-be06-407c-8188-b7cd746366c1",
   "metadata": {},
   "outputs": [
    {
     "data": {
      "text/plain": [
       "4.1"
      ]
     },
     "execution_count": 18,
     "metadata": {},
     "output_type": "execute_result"
    }
   ],
   "source": [
    "float('4.1/5'.split('/')[0])"
   ]
  },
  {
   "cell_type": "code",
   "execution_count": 19,
   "id": "3f7213cc-f267-40b0-941e-6d473eec9365",
   "metadata": {},
   "outputs": [],
   "source": [
    "df['rate'] = df['rate'].apply(lambda x : float(x.split('/')[0]) if type(x) == str else x)"
   ]
  },
  {
   "cell_type": "code",
   "execution_count": 20,
   "id": "e56f5441-af57-48b5-a4cf-80381794858d",
   "metadata": {},
   "outputs": [
    {
     "data": {
      "text/plain": [
       "0        4.1\n",
       "1        4.1\n",
       "2        3.8\n",
       "3        3.7\n",
       "4        3.8\n",
       "        ... \n",
       "51712    3.6\n",
       "51713    NaN\n",
       "51714    NaN\n",
       "51715    4.3\n",
       "51716    3.4\n",
       "Name: rate, Length: 51717, dtype: float64"
      ]
     },
     "execution_count": 20,
     "metadata": {},
     "output_type": "execute_result"
    }
   ],
   "source": [
    "df['rate']"
   ]
  },
  {
   "cell_type": "code",
   "execution_count": 21,
   "id": "42c258e1-60cd-4d6e-9837-3ccf47b78f18",
   "metadata": {},
   "outputs": [],
   "source": [
    "x = pd.crosstab(df['rate'], df['online_order'])"
   ]
  },
  {
   "cell_type": "code",
   "execution_count": 22,
   "id": "3ccc5ccb-1961-443a-939f-7b95e938b6df",
   "metadata": {},
   "outputs": [
    {
     "data": {
      "text/html": [
       "<div>\n",
       "<style scoped>\n",
       "    .dataframe tbody tr th:only-of-type {\n",
       "        vertical-align: middle;\n",
       "    }\n",
       "\n",
       "    .dataframe tbody tr th {\n",
       "        vertical-align: top;\n",
       "    }\n",
       "\n",
       "    .dataframe thead th {\n",
       "        text-align: right;\n",
       "    }\n",
       "</style>\n",
       "<table border=\"1\" class=\"dataframe\">\n",
       "  <thead>\n",
       "    <tr style=\"text-align: right;\">\n",
       "      <th>online_order</th>\n",
       "      <th>No</th>\n",
       "      <th>Yes</th>\n",
       "    </tr>\n",
       "    <tr>\n",
       "      <th>rate</th>\n",
       "      <th></th>\n",
       "      <th></th>\n",
       "    </tr>\n",
       "  </thead>\n",
       "  <tbody>\n",
       "    <tr>\n",
       "      <th>1.8</th>\n",
       "      <td>5</td>\n",
       "      <td>0</td>\n",
       "    </tr>\n",
       "    <tr>\n",
       "      <th>2.0</th>\n",
       "      <td>11</td>\n",
       "      <td>0</td>\n",
       "    </tr>\n",
       "    <tr>\n",
       "      <th>2.1</th>\n",
       "      <td>9</td>\n",
       "      <td>15</td>\n",
       "    </tr>\n",
       "    <tr>\n",
       "      <th>2.2</th>\n",
       "      <td>10</td>\n",
       "      <td>16</td>\n",
       "    </tr>\n",
       "    <tr>\n",
       "      <th>2.3</th>\n",
       "      <td>29</td>\n",
       "      <td>22</td>\n",
       "    </tr>\n",
       "    <tr>\n",
       "      <th>2.4</th>\n",
       "      <td>36</td>\n",
       "      <td>34</td>\n",
       "    </tr>\n",
       "    <tr>\n",
       "      <th>2.5</th>\n",
       "      <td>38</td>\n",
       "      <td>63</td>\n",
       "    </tr>\n",
       "    <tr>\n",
       "      <th>2.6</th>\n",
       "      <td>83</td>\n",
       "      <td>177</td>\n",
       "    </tr>\n",
       "    <tr>\n",
       "      <th>2.7</th>\n",
       "      <td>141</td>\n",
       "      <td>166</td>\n",
       "    </tr>\n",
       "    <tr>\n",
       "      <th>2.8</th>\n",
       "      <td>224</td>\n",
       "      <td>376</td>\n",
       "    </tr>\n",
       "    <tr>\n",
       "      <th>2.9</th>\n",
       "      <td>314</td>\n",
       "      <td>488</td>\n",
       "    </tr>\n",
       "    <tr>\n",
       "      <th>3.0</th>\n",
       "      <td>439</td>\n",
       "      <td>584</td>\n",
       "    </tr>\n",
       "    <tr>\n",
       "      <th>3.1</th>\n",
       "      <td>587</td>\n",
       "      <td>974</td>\n",
       "    </tr>\n",
       "    <tr>\n",
       "      <th>3.2</th>\n",
       "      <td>829</td>\n",
       "      <td>1044</td>\n",
       "    </tr>\n",
       "    <tr>\n",
       "      <th>3.3</th>\n",
       "      <td>1137</td>\n",
       "      <td>1173</td>\n",
       "    </tr>\n",
       "    <tr>\n",
       "      <th>3.4</th>\n",
       "      <td>1024</td>\n",
       "      <td>1452</td>\n",
       "    </tr>\n",
       "    <tr>\n",
       "      <th>3.5</th>\n",
       "      <td>1090</td>\n",
       "      <td>1694</td>\n",
       "    </tr>\n",
       "    <tr>\n",
       "      <th>3.6</th>\n",
       "      <td>1090</td>\n",
       "      <td>2226</td>\n",
       "    </tr>\n",
       "    <tr>\n",
       "      <th>3.7</th>\n",
       "      <td>1172</td>\n",
       "      <td>2649</td>\n",
       "    </tr>\n",
       "    <tr>\n",
       "      <th>3.8</th>\n",
       "      <td>1147</td>\n",
       "      <td>2726</td>\n",
       "    </tr>\n",
       "    <tr>\n",
       "      <th>3.9</th>\n",
       "      <td>1017</td>\n",
       "      <td>2955</td>\n",
       "    </tr>\n",
       "    <tr>\n",
       "      <th>4.0</th>\n",
       "      <td>874</td>\n",
       "      <td>2309</td>\n",
       "    </tr>\n",
       "    <tr>\n",
       "      <th>4.1</th>\n",
       "      <td>843</td>\n",
       "      <td>2105</td>\n",
       "    </tr>\n",
       "    <tr>\n",
       "      <th>4.2</th>\n",
       "      <td>648</td>\n",
       "      <td>1536</td>\n",
       "    </tr>\n",
       "    <tr>\n",
       "      <th>4.3</th>\n",
       "      <td>692</td>\n",
       "      <td>1001</td>\n",
       "    </tr>\n",
       "    <tr>\n",
       "      <th>4.4</th>\n",
       "      <td>374</td>\n",
       "      <td>773</td>\n",
       "    </tr>\n",
       "    <tr>\n",
       "      <th>4.5</th>\n",
       "      <td>297</td>\n",
       "      <td>359</td>\n",
       "    </tr>\n",
       "    <tr>\n",
       "      <th>4.6</th>\n",
       "      <td>140</td>\n",
       "      <td>160</td>\n",
       "    </tr>\n",
       "    <tr>\n",
       "      <th>4.7</th>\n",
       "      <td>113</td>\n",
       "      <td>54</td>\n",
       "    </tr>\n",
       "    <tr>\n",
       "      <th>4.8</th>\n",
       "      <td>34</td>\n",
       "      <td>32</td>\n",
       "    </tr>\n",
       "    <tr>\n",
       "      <th>4.9</th>\n",
       "      <td>12</td>\n",
       "      <td>43</td>\n",
       "    </tr>\n",
       "  </tbody>\n",
       "</table>\n",
       "</div>"
      ],
      "text/plain": [
       "online_order    No   Yes\n",
       "rate                    \n",
       "1.8              5     0\n",
       "2.0             11     0\n",
       "2.1              9    15\n",
       "2.2             10    16\n",
       "2.3             29    22\n",
       "2.4             36    34\n",
       "2.5             38    63\n",
       "2.6             83   177\n",
       "2.7            141   166\n",
       "2.8            224   376\n",
       "2.9            314   488\n",
       "3.0            439   584\n",
       "3.1            587   974\n",
       "3.2            829  1044\n",
       "3.3           1137  1173\n",
       "3.4           1024  1452\n",
       "3.5           1090  1694\n",
       "3.6           1090  2226\n",
       "3.7           1172  2649\n",
       "3.8           1147  2726\n",
       "3.9           1017  2955\n",
       "4.0            874  2309\n",
       "4.1            843  2105\n",
       "4.2            648  1536\n",
       "4.3            692  1001\n",
       "4.4            374   773\n",
       "4.5            297   359\n",
       "4.6            140   160\n",
       "4.7            113    54\n",
       "4.8             34    32\n",
       "4.9             12    43"
      ]
     },
     "execution_count": 22,
     "metadata": {},
     "output_type": "execute_result"
    }
   ],
   "source": [
    "x"
   ]
  },
  {
   "cell_type": "code",
   "execution_count": 23,
   "id": "fbfef067-0a67-49ef-b86a-47cf8ccbde9c",
   "metadata": {},
   "outputs": [
    {
     "data": {
      "text/plain": [
       "<Axes: xlabel='rate'>"
      ]
     },
     "execution_count": 23,
     "metadata": {},
     "output_type": "execute_result"
    },
    {
     "data": {
      "image/png": "[encoded data removed]",
      "text/plain": [
       "<Figure size 640x480 with 1 Axes>"
      ]
     },
     "metadata": {},
     "output_type": "display_data"
    }
   ],
   "source": [
    "x.plot(kind = 'bar' , stacked = True)"
   ]
  },
  {
   "cell_type": "code",
   "execution_count": 24,
   "id": "5867ef8d-61ad-46e1-a979-7a6e4eeae449",
   "metadata": {},
   "outputs": [
    {
     "data": {
      "text/plain": [
       "rate\n",
       "1.8       5\n",
       "2.0      11\n",
       "2.1      24\n",
       "2.2      26\n",
       "2.3      51\n",
       "2.4      70\n",
       "2.5     101\n",
       "2.6     260\n",
       "2.7     307\n",
       "2.8     600\n",
       "2.9     802\n",
       "3.0    1023\n",
       "3.1    1561\n",
       "3.2    1873\n",
       "3.3    2310\n",
       "3.4    2476\n",
       "3.5    2784\n",
       "3.6    3316\n",
       "3.7    3821\n",
       "3.8    3873\n",
       "3.9    3972\n",
       "4.0    3183\n",
       "4.1    2948\n",
       "4.2    2184\n",
       "4.3    1693\n",
       "4.4    1147\n",
       "4.5     656\n",
       "4.6     300\n",
       "4.7     167\n",
       "4.8      66\n",
       "4.9      55\n",
       "dtype: int64"
      ]
     },
     "execution_count": 24,
     "metadata": {},
     "output_type": "execute_result"
    }
   ],
   "source": [
    "x.sum(axis = 1)"
   ]
  },
  {
   "cell_type": "code",
   "execution_count": 25,
   "id": "669b3f54-3284-40e2-8f4b-13136a90ca9b",
   "metadata": {},
   "outputs": [],
   "source": [
    "normalize_df = x.div(x.sum(axis = 1).astype(float), axis = 0)"
   ]
  },
  {
   "cell_type": "code",
   "execution_count": 26,
   "id": "b45346c6-1566-44bd-8c35-bbf80088a4d4",
   "metadata": {},
   "outputs": [
    {
     "data": {
      "text/plain": [
       "<Axes: xlabel='rate'>"
      ]
     },
     "execution_count": 26,
     "metadata": {},
     "output_type": "execute_result"
    },
    {
     "data": {
      "image/png": "[encoded data removed]",
      "text/plain": [
       "<Figure size 640x480 with 1 Axes>"
      ]
     },
     "metadata": {},
     "output_type": "display_data"
    }
   ],
   "source": [
    "normalize_df.plot(kind = 'bar' , stacked = True)"
   ]
  },
  {
   "cell_type": "code",
   "execution_count": 27,
   "id": "338326ca-495a-4bb4-a80e-e9a8fbb95939",
   "metadata": {},
   "outputs": [
    {
     "data": {
      "text/plain": [
       "np.int64(227)"
      ]
     },
     "execution_count": 27,
     "metadata": {},
     "output_type": "execute_result"
    }
   ],
   "source": [
    "df['rest_type'].isnull().sum()"
   ]
  },
  {
   "cell_type": "code",
   "execution_count": 28,
   "id": "be035212-74dd-4aef-8af4-ba97bbb06fb5",
   "metadata": {},
   "outputs": [],
   "source": [
    "data = df.dropna(subset=['rest_type'])"
   ]
  },
  {
   "cell_type": "code",
   "execution_count": 29,
   "id": "5184065a-f948-4b74-afa3-eeb06d4ddb12",
   "metadata": {},
   "outputs": [
    {
     "data": {
      "text/plain": [
       "np.int64(0)"
      ]
     },
     "execution_count": 29,
     "metadata": {},
     "output_type": "execute_result"
    }
   ],
   "source": [
    "data['rest_type'].isnull().sum()"
   ]
  },
  {
   "cell_type": "code",
   "execution_count": 30,
   "id": "b33a1e1c-f5ef-4372-9d86-d9effb31c834",
   "metadata": {},
   "outputs": [
    {
     "data": {
      "text/plain": [
       "array(['Casual Dining', 'Cafe, Casual Dining', 'Quick Bites',\n",
       "       'Casual Dining, Cafe', 'Cafe', 'Quick Bites, Cafe',\n",
       "       'Cafe, Quick Bites', 'Delivery', 'Mess', 'Dessert Parlor',\n",
       "       'Bakery, Dessert Parlor', 'Pub', 'Bakery', 'Takeaway, Delivery',\n",
       "       'Fine Dining', 'Beverage Shop', 'Sweet Shop', 'Bar',\n",
       "       'Beverage Shop, Quick Bites', 'Confectionery',\n",
       "       'Quick Bites, Beverage Shop', 'Dessert Parlor, Sweet Shop',\n",
       "       'Bakery, Quick Bites', 'Sweet Shop, Quick Bites', 'Kiosk',\n",
       "       'Food Truck', 'Quick Bites, Dessert Parlor',\n",
       "       'Beverage Shop, Dessert Parlor', 'Takeaway', 'Pub, Casual Dining',\n",
       "       'Casual Dining, Bar', 'Dessert Parlor, Beverage Shop',\n",
       "       'Quick Bites, Bakery', 'Dessert Parlor, Quick Bites',\n",
       "       'Microbrewery, Casual Dining', 'Lounge', 'Bar, Casual Dining',\n",
       "       'Food Court', 'Cafe, Bakery', 'Dhaba', 'Quick Bites, Sweet Shop',\n",
       "       'Microbrewery', 'Food Court, Quick Bites', 'Pub, Bar',\n",
       "       'Casual Dining, Pub', 'Lounge, Bar', 'Food Court, Dessert Parlor',\n",
       "       'Casual Dining, Sweet Shop', 'Food Court, Casual Dining',\n",
       "       'Casual Dining, Microbrewery', 'Sweet Shop, Dessert Parlor',\n",
       "       'Bakery, Beverage Shop', 'Lounge, Casual Dining',\n",
       "       'Cafe, Food Court', 'Beverage Shop, Cafe', 'Cafe, Dessert Parlor',\n",
       "       'Dessert Parlor, Cafe', 'Dessert Parlor, Bakery',\n",
       "       'Microbrewery, Pub', 'Bakery, Food Court', 'Club',\n",
       "       'Quick Bites, Food Court', 'Bakery, Cafe', 'Bar, Cafe',\n",
       "       'Pub, Cafe', 'Casual Dining, Irani Cafee', 'Fine Dining, Lounge',\n",
       "       'Bar, Quick Bites', 'Bakery, Kiosk', 'Pub, Microbrewery',\n",
       "       'Microbrewery, Lounge', 'Fine Dining, Microbrewery',\n",
       "       'Fine Dining, Bar', 'Mess, Quick Bites', 'Dessert Parlor, Kiosk',\n",
       "       'Bhojanalya', 'Casual Dining, Quick Bites', 'Pop Up', 'Cafe, Bar',\n",
       "       'Casual Dining, Lounge', 'Bakery, Sweet Shop', 'Microbrewery, Bar',\n",
       "       'Cafe, Lounge', 'Bar, Pub', 'Lounge, Cafe', 'Club, Casual Dining',\n",
       "       'Quick Bites, Mess', 'Quick Bites, Meat Shop',\n",
       "       'Quick Bites, Kiosk', 'Lounge, Microbrewery',\n",
       "       'Food Court, Beverage Shop', 'Dessert Parlor, Food Court',\n",
       "       'Bar, Lounge'], dtype=object)"
      ]
     },
     "execution_count": 30,
     "metadata": {},
     "output_type": "execute_result"
    }
   ],
   "source": [
    "data['rest_type'].unique()"
   ]
  },
  {
   "cell_type": "code",
   "execution_count": 31,
   "id": "41048f63-9ee8-4a06-a654-d414ce4b4d41",
   "metadata": {},
   "outputs": [],
   "source": [
    "quick_bites_df = data[data['rest_type'].str.contains('Quick Bites')]"
   ]
  },
  {
   "cell_type": "code",
   "execution_count": 32,
   "id": "661a6a80-ba4f-49f3-9a0c-e6bcd0d2bb1f",
   "metadata": {},
   "outputs": [
    {
     "data": {
      "text/plain": [
       "(20639, 18)"
      ]
     },
     "execution_count": 32,
     "metadata": {},
     "output_type": "execute_result"
    }
   ],
   "source": [
    "quick_bites_df.shape"
   ]
  },
  {
   "cell_type": "code",
   "execution_count": 33,
   "id": "c7fd1c01-0c3f-45dd-9204-66527b384b91",
   "metadata": {},
   "outputs": [
    {
     "data": {
      "text/plain": [
       "Index(['index', 'url', 'address', 'name', 'online_order', 'book_table', 'rate',\n",
       "       'votes', 'phone', 'location', 'rest_type', 'dish_liked', 'cuisines',\n",
       "       'approx_cost(for two people)', 'reviews_list', 'menu_item',\n",
       "       'listed_in(type)', 'listed_in(city)'],\n",
       "      dtype='object')"
      ]
     },
     "execution_count": 33,
     "metadata": {},
     "output_type": "execute_result"
    }
   ],
   "source": [
    "quick_bites_df.columns"
   ]
  },
  {
   "cell_type": "code",
   "execution_count": 34,
   "id": "a683da4a-4bf0-4cda-9e40-45b2503d3aab",
   "metadata": {},
   "outputs": [
    {
     "name": "stderr",
     "output_type": "stream",
     "text": [
      "C:\\Users\\Mohammed R. Alshaer\\AppData\\Local\\Temp\\ipykernel_11152\\1487414874.py:1: SettingWithCopyWarning: \n",
      "A value is trying to be set on a copy of a slice from a DataFrame.\n",
      "Try using .loc[row_indexer,col_indexer] = value instead\n",
      "\n",
      "See the caveats in the documentation: https://pandas.pydata.org/pandas-docs/stable/user_guide/indexing.html#returning-a-view-versus-a-copy\n",
      "  quick_bites_df['reviews_list']= quick_bites_df['reviews_list'].apply(lambda x : x.lower())\n"
     ]
    }
   ],
   "source": [
    "quick_bites_df['reviews_list']= quick_bites_df['reviews_list'].apply(lambda x : x.lower())"
   ]
  },
  {
   "cell_type": "code",
   "execution_count": 35,
   "id": "f5788247-8b71-4160-a124-54467828f38c",
   "metadata": {},
   "outputs": [],
   "source": [
    "from nltk.corpus import RegexpTokenizer"
   ]
  },
  {
   "cell_type": "code",
   "execution_count": 36,
   "id": "1765ad68-cb38-41fc-ab2b-f27c5e8b7d8f",
   "metadata": {},
   "outputs": [],
   "source": [
    "tokenizer = RegexpTokenizer(\"[a-zA-Z]+\")"
   ]
  },
  {
   "cell_type": "code",
   "execution_count": 37,
   "id": "2343741e-d084-455d-aece-f13e6b383a79",
   "metadata": {},
   "outputs": [],
   "source": [
    "ddd = tokenizer.tokenize(quick_bites_df['reviews_list'][3])"
   ]
  },
  {
   "cell_type": "code",
   "execution_count": 38,
   "id": "da946255-fa8b-493f-840f-f6ed6428e879",
   "metadata": {},
   "outputs": [],
   "source": [
    "sample = data[0:10000]"
   ]
  },
  {
   "cell_type": "code",
   "execution_count": 39,
   "id": "5c6cd96d-9e21-4cf1-966e-154998e9b4c9",
   "metadata": {},
   "outputs": [],
   "source": [
    "reviews_tokens = sample['reviews_list'].apply(tokenizer.tokenize)"
   ]
  },
  {
   "cell_type": "code",
   "execution_count": 40,
   "id": "cc00f05e-e307-4358-be9f-49270edf86e0",
   "metadata": {},
   "outputs": [],
   "source": [
    "from nltk.corpus import stopwords"
   ]
  },
  {
   "cell_type": "code",
   "execution_count": 41,
   "id": "c73a8727-fc3e-4cbe-84ff-ced1a985f33d",
   "metadata": {},
   "outputs": [],
   "source": [
    "stop = stopwords.words('english')"
   ]
  },
  {
   "cell_type": "code",
   "execution_count": 42,
   "id": "0338c024-15e9-4dcd-b792-50c395528d1f",
   "metadata": {},
   "outputs": [
    {
     "name": "stdout",
     "output_type": "stream",
     "text": [
      "['a', 'about', 'above', 'after', 'again', 'against', 'ain', 'all', 'am', 'an', 'and', 'any', 'are', 'aren', \"aren't\", 'as', 'at', 'be', 'because', 'been', 'before', 'being', 'below', 'between', 'both', 'but', 'by', 'can', 'couldn', \"couldn't\", 'd', 'did', 'didn', \"didn't\", 'do', 'does', 'doesn', \"doesn't\", 'doing', 'don', \"don't\", 'down', 'during', 'each', 'few', 'for', 'from', 'further', 'had', 'hadn', \"hadn't\", 'has', 'hasn', \"hasn't\", 'have', 'haven', \"haven't\", 'having', 'he', \"he'd\", \"he'll\", 'her', 'here', 'hers', 'herself', \"he's\", 'him', 'himself', 'his', 'how', 'i', \"i'd\", 'if', \"i'll\", \"i'm\", 'in', 'into', 'is', 'isn', \"isn't\", 'it', \"it'd\", \"it'll\", \"it's\", 'its', 'itself', \"i've\", 'just', 'll', 'm', 'ma', 'me', 'mightn', \"mightn't\", 'more', 'most', 'mustn', \"mustn't\", 'my', 'myself', 'needn', \"needn't\", 'no', 'nor', 'not', 'now', 'o', 'of', 'off', 'on', 'once', 'only', 'or', 'other', 'our', 'ours', 'ourselves', 'out', 'over', 'own', 're', 's', 'same', 'shan', \"shan't\", 'she', \"she'd\", \"she'll\", \"she's\", 'should', 'shouldn', \"shouldn't\", \"should've\", 'so', 'some', 'such', 't', 'than', 'that', \"that'll\", 'the', 'their', 'theirs', 'them', 'themselves', 'then', 'there', 'these', 'they', \"they'd\", \"they'll\", \"they're\", \"they've\", 'this', 'those', 'through', 'to', 'too', 'under', 'until', 'up', 've', 'very', 'was', 'wasn', \"wasn't\", 'we', \"we'd\", \"we'll\", \"we're\", 'were', 'weren', \"weren't\", \"we've\", 'what', 'when', 'where', 'which', 'while', 'who', 'whom', 'why', 'will', 'with', 'won', \"won't\", 'wouldn', \"wouldn't\", 'y', 'you', \"you'd\", \"you'll\", 'your', \"you're\", 'yours', 'yourself', 'yourselves', \"you've\"]\n"
     ]
    }
   ],
   "source": [
    "print(stop)"
   ]
  },
  {
   "cell_type": "code",
   "execution_count": 43,
   "id": "daf6c3df-7b7c-4556-a68f-a4217f3ce334",
   "metadata": {},
   "outputs": [],
   "source": [
    "stop.extend(['rated', 'n', 'nan', 'x', 'Rated', 'RATED'])"
   ]
  },
  {
   "cell_type": "code",
   "execution_count": 44,
   "id": "fb5c12aa-c828-4340-ab07-a48b431adb4f",
   "metadata": {},
   "outputs": [
    {
     "name": "stdout",
     "output_type": "stream",
     "text": [
      "['a', 'about', 'above', 'after', 'again', 'against', 'ain', 'all', 'am', 'an', 'and', 'any', 'are', 'aren', \"aren't\", 'as', 'at', 'be', 'because', 'been', 'before', 'being', 'below', 'between', 'both', 'but', 'by', 'can', 'couldn', \"couldn't\", 'd', 'did', 'didn', \"didn't\", 'do', 'does', 'doesn', \"doesn't\", 'doing', 'don', \"don't\", 'down', 'during', 'each', 'few', 'for', 'from', 'further', 'had', 'hadn', \"hadn't\", 'has', 'hasn', \"hasn't\", 'have', 'haven', \"haven't\", 'having', 'he', \"he'd\", \"he'll\", 'her', 'here', 'hers', 'herself', \"he's\", 'him', 'himself', 'his', 'how', 'i', \"i'd\", 'if', \"i'll\", \"i'm\", 'in', 'into', 'is', 'isn', \"isn't\", 'it', \"it'd\", \"it'll\", \"it's\", 'its', 'itself', \"i've\", 'just', 'll', 'm', 'ma', 'me', 'mightn', \"mightn't\", 'more', 'most', 'mustn', \"mustn't\", 'my', 'myself', 'needn', \"needn't\", 'no', 'nor', 'not', 'now', 'o', 'of', 'off', 'on', 'once', 'only', 'or', 'other', 'our', 'ours', 'ourselves', 'out', 'over', 'own', 're', 's', 'same', 'shan', \"shan't\", 'she', \"she'd\", \"she'll\", \"she's\", 'should', 'shouldn', \"shouldn't\", \"should've\", 'so', 'some', 'such', 't', 'than', 'that', \"that'll\", 'the', 'their', 'theirs', 'them', 'themselves', 'then', 'there', 'these', 'they', \"they'd\", \"they'll\", \"they're\", \"they've\", 'this', 'those', 'through', 'to', 'too', 'under', 'until', 'up', 've', 'very', 'was', 'wasn', \"wasn't\", 'we', \"we'd\", \"we'll\", \"we're\", 'were', 'weren', \"weren't\", \"we've\", 'what', 'when', 'where', 'which', 'while', 'who', 'whom', 'why', 'will', 'with', 'won', \"won't\", 'wouldn', \"wouldn't\", 'y', 'you', \"you'd\", \"you'll\", 'your', \"you're\", 'yours', 'yourself', 'yourselves', \"you've\", 'rated', 'n', 'nan', 'x', 'Rated', 'RATED']\n"
     ]
    }
   ],
   "source": [
    "print(stop)"
   ]
  },
  {
   "cell_type": "code",
   "execution_count": 45,
   "id": "a151b420-4607-4a8d-a91f-2eaa4c59dfb5",
   "metadata": {},
   "outputs": [
    {
     "name": "stdout",
     "output_type": "stream",
     "text": [
      "['Rated', 'RATED', 'n', 'Great', 'food', 'and', 'proper', 'Karnataka', 'style', 'full', 'meals', 'Been', 'there', 'twice', 'and', 'was', 'fully', 'satisfied', 'Will', 'give', 'stars', 'if', 'it', 's', 'well', 'managed', 'Rated', 'RATED', 'n', 'Reached', 'the', 'place', 'at', 'pm', 'on', 'Saturday', 'Half', 'of', 'the', 'items', 'on', 'the', 'menu', 'were', 'over', 'What', 'was', 'annoying', 'was', 'is', 'the', 'food', 'was', 'cold', 'The', 'taste', 'was', 'also', 'very', 'average', 'Only', 'dosa', 'and', 'holige', 'were', 'good', 'There', 'were', 'very', 'few', 'people', 'in', 'the', 'restaurant', 'and', 'the', 'service', 'was', 'still', 'very', 'slow', 'The', 'waiters', 'were', 'all', 'standing', 'in', 'one', 'corner', 'and', 'talking', 'Had', 'to', 'call', 'them', 'repeatedly', 'Rated', 'RATED', 'n', 'Had', 'been', 'here', 'good', 'food', 'served', 'and', 'tasty', 'good', 'place', 'to', 'go', 'with', 'freinds', 'and', 'family', 'should', 'be', 'first', 'to', 'get', 'served', 'well', 'with', 'all', 'food', 'One', 'of', 'the', 'good', 'hotel', 'there', 'for', 'this', 'price', 'Rated', 'RATED', 'n', 'How', 'can', 'a', 'Udupi', 'restaurant', 'be', 'so', 'dirty', 'the', 'floor', 'the', 'walls', 'the', 'waiters', 'are', 'all', 'stained', 'in', 'food', 'Why', 'cant', 'they', 'clean', 'it', 'The', 'floor', 'even', 'had', 'decorative', 'colour', 'paper', 'every', 'where', 'and', 'lot', 'of', 'food', 'Now', 'coming', 'to', 'the', 'taste', 'of', 'the', 'food', 'it', 'was', 'pretty', 'decent', 'for', 'what', 'they', 'chargw', 'What', 'upset', 'us', 'was', 'the', 'menu', 'says', 'they', 'serve', 'thambuli', 'two', 'variety', 'of', 'rice', 'etc', 'but', 'they', 'were', 'all', 'over', 'at', 'but', 'they', 'still', 'charged', 'us', 'full', 'amount', 'Lastly', 'if', 'u', 'r', 'ok', 'to', 'b', 'seated', 'with', 'random', 'people', 'and', 'adjust', 'with', 'their', 'table', 'manners', 'burrping', 'etc', 'then', 'tis', 'place', 'is', 'decent', 'for', 'a', 'quick', 'veg', 'udupi', 'meals', 'Rated', 'RATED', 'n', 'Aadhuri', 'Udupi', 'bhojana', 'is', 'one', 'of', 'the', 'best', 'vegetarian', 'hotel', 'in', 'and', 'around', 'Banashankari', 'locality', 'nwere', 'we', 'can', 'enjoy', 'the', 'authentic', 'south', 'Karnataka', 'style', 'food', 'Rated', 'RATED', 'n', 'One', 'of', 'the', 'best', 'restaurants', 'for', 'unlimited', 'food', 'Price', 'for', 'one', 'full', 'unlimited', 'meal', 'is', 'and', 'the', 'service', 'is', 'awesome', 'here', 'If', 'you', 'x', 'x', 'x', 'x', 'x', 'x', 'x', 'x', 're', 'a', 'costalian', 'you', 'will', 'love', 'the', 'food', 'served', 'here', 'Rated', 'RATED', 'n', 'Been', 'here', 'a', 'couple', 'of', 'times', 'Highly', 'satisfying', 'on', 'both', 'the', 'ocassions', 'Great', 'food', 'Decent', 'service', 'At', 'price', 'of', 'per', 'person', 'it', 'is', 'of', 'a', 'great', 'value', 'The', 'staff', 'here', 'serves', 'in', 'a', 'traditional', 'Mysore', 'style', 'dresses', 'The', 'food', 'is', 'authentic', 'Karnataka', 'meals', 'I', 'really', 'liked', 'the', 'pineapple', 'pickle', 'chutney', 'They', 'serve', 'some', 'varities', 'of', 'rice', 'of', 'which', 'you', 'shouldn', 't', 'try', 'all', 'as', 'you', 'would', 'already', 'be', 'full', 'Roti', 'Dosa', 'were', 'decent', 'In', 'the', 'deserts', 'Payasam', 'Holige', 'were', 'good', 'nI', 'think', 'it', 'is', 'one', 'the', 'must', 'try', 'places', 'to', 'try', 'some', 'authentic', 'south', 'food', 'even', 'if', 'you', 'have', 'been', 'to', 'the', 'likes', 'of', 'Kamath', 'etc', 'this', 'one', 'is', 'a', 'little', 'different', 'Rated', 'RATED', 'n', 'Very', 'good', 'restorent', 'good', 'south', 'Indian', 'food', 'very', 'nice', 'all', 'food', 's', 'are', 'good', 'we', 'spent', 'good', 'time', 'and', 'food', 'in', 'this', 'hotel', 'value', 'of', 'money', 'we', 'loved', 'it', 'Rated', 'RATED', 'n', 'I', 'went', 'to', 'this', 'restaurant', 'on', 'Sunday', 'afternoon', 'It', 'was', 'a', 'bit', 'crowded', 'n', 'nIts', 'located', 'in', 'the', 'st', 'floor', 'Above', 'anna', 'kuteera', 'kathriguppe', 'n', 'nYou', 'need', 'to', 'take', 'food', 'coupon', 'in', 'the', 'ground', 'floor', 'itself', 'nit', 'was', 'rs', 'n', 'nTaste', 'wise', 'it', 'was', 'good', 'nService', 'was', 'slow', 'nNothing', 'exciting', 'different', 'in', 'the', 'menu', 'nWhatever', 'they', 'serve', 'its', 'good', 'nWorth', 'for', 'money', 'Rated', 'RATED', 'n', 'Awesome', 'place', 'worth', 'with', 'price', 'quality', 'quantity', 'service', 'hygiene', 'and', 'discipline', 'I', 'loved', 'it', 'wish', 'there', 'were', 'more', 'rating', 'stars', 'to', 'give', 'I', 'give', 'on', 'for', 'sure', 'Rated', 'RATED', 'n', 'Nice', 'food', 'good', 'ambiance', 'so', 'many', 'verity', 'of', 'food', 'this', 'time', 'i', 'was', 'in', 'hurry', 'so', 'next', 'review', 'will', 'be', 'detailed', 'one', 'Its', 'good', 'to', 'see', 'all', 'dishes', 'at', 'one', 'place', 'Rated', 'RATED', 'n', 'The', 'food', 'was', 'not', 'satisfactory', 'Not', 'one', 'item', 'served', 'could', 'be', 'eaten', 'again', 'Only', 'advantage', 'is', 'the', 'price', 'but', 'even', 'that', 'is', 'not', 'going', 'to', 'be', 'enough', 'to', 'make', 'me', 'visit', 'the', 'place', 'again', 'Dear', 'Udupi', 'staff', 'people', 'wouldn', 'x', 'x', 'x', 'x', 'x', 'x', 'x', 'x', 't', 'mind', 'if', 'the', 'food', 'quality', 'was', 'better', 'for', 'a', 'higher', 'price', 'and', 'please', 'get', 'more', 'fans', 'so', 'that', 'people', 'won', 'x', 'x', 'x', 'x', 'x', 'x', 'x', 'x', 't', 'have', 'to', 'deal', 'with', 'another', 'disappointment', 'of', 'sweating', 'while', 'eating', 'Rated', 'RATED', 'n', 'Excellent', 'quality', 'and', 'taste', 'more', 'variety', 'of', 'authentic', 'south', 'Indian', 'food', 'Excellent', 'service', 'Highly', 'recommended', 'Worth', 'the', 'money', 'we', 'pay', 'here', 'Rated', 'RATED', 'n', 'I', 'm', 'rating', 'only', 'because', 'of', 'the', 'large', 'number', 'of', 'items', 'they', 'serve', 'for', 'the', 'price', 'they', 'charge', 'While', 'the', 'taste', 'is', 'moderate', 'the', 'biggest', 'turn', 'off', 'is', 'the', 'poor', 'service', 'and', 'totally', 'unresponsive', 'staff', 'They', 'are', 'either', 'understaffed', 'or', 'poorly', 'trained', 'I', 'didn', 't', 'get', 'to', 'taste', 'a', 'few', 'items', 'thanks', 'to', 'their', 'ever', 'busy', 'staff', 'and', 'ended', 'eating', 'what', 'was', 'served', 'Please', 'learn', 'the', 'crowd', 'management', 'from', 'other', 'peers', 'like', 'maiyya', 'and', 'roti', 'ghar', 'Rated', 'RATED', 'n', 'One', 'of', 'my', 'colleagues', 'suggested', 'this', 'place', 'Went', 'there', 'at', 'pm', 'and', 'place', 'wasnt', 'crowded', 'Ambience', 'is', 'decent', 'and', 'cool', 'A', 'welcome', 'drink', 'appekai', 'saru', 'was', 'served', 'Then', 'started', 'typical', 'baale', 'yele', 'uta', 'Diffrerent', 'types', 'of', 'palya', 'kosambari', 'and', 'sides', 'Then', 'came', 'masala', 'dosa', 'pulka', 'pulav', 'veg', 'rice', 'bath', 'Masala', 'dosa', 'was', 'very', 'very', 'tasty', 'Service', 'is', 'bit', 'fast', 'as', 'people', 'will', 'be', 'coming', 'but', 'they', 'will', 'make', 'it', 'slow', 'if', 'u', 'tell', 'them', 'to', 'Then', 'comes', 'rice', 'with', 'sambar', 'rasam', 'daal', 'tambali', 'And', 'yes', 'dont', 'forget', 'to', 'eat', 'holige', 'payasam', 'and', 'icecream', 'Service', 'is', 'very', 'nice', 'One', 'best', 'thing', 'is', 'all', 'of', 'this', 'comes', 'in', 'just', 'rs', 'and', 'its', 'unlimited', 'What', 'else', 'you', 'want', 'A', 'must', 'visit', 'place', 'for', 'south', 'indian', 'foodie', 'Rated', 'RATED', 'n', 'Been', 'here', 'last', 'week', 'with', 'high', 'expectations', 'based', 'on', 'few', 'reviews', 'But', 'utterly', 'disappointed', 'with', 'the', 'food', 'quality', 'taste', 'I', 'feel', 'it', 's', 'an', 'overhyped', 'place', 'There', 'are', 'many', 'better', 'places', 'in', 'the', 'vicinity', 'for', 'Plantain', 'leaf', 'meal', 'There', 'was', 'too', 'much', 'of', 'waiting', 'these', 'staffs', 'were', 'too', 'hurry', 'in', 'serving', 'food', 'asking', 'people', 'to', 'finish', 'meal', 'leave', 'quickly', 'I', 'can', 'understand', 'there', 'is', 'a', 'waiting', 'and', 'staffs', 'should', 'approach', 'in', 'a', 'positive', 'way', 'I', 'will', 'never', 'go', 'there', 'again', 'n', 'nbangaloreepicure', 'com', 'Rated', 'RATED', 'n', 'I', 'have', 'a', 'confession', 'being', 'a', 'south', 'Indian', 'I', 'distaste', 'south', 'Indian', 'food', 'not', 'that', 'I', 'hate', 'it', 'I', 'don', 't', 'like', 'it', 'either', 'But', 'still', 'made', 'up', 'my', 'mind', 'on', 'Sankaranti', 'to', 'have', 'authentic', 'south', 'Indian', 'food', 'visited', 'Adduri', 'Udupi', 'Bhojana', 'because', 'it', 'was', 'close', 'to', 'my', 'place', 'I', 'just', 'had', 'a', 'look', 'at', 'the', 'menu', 'told', 'myself', 'that', 'I', 'can', 'do', 'it', 'I', 'am', 'not', 'blessed', 'with', 'a', 'tremendous', 'appetite', 'welcomed', 'with', 'the', 'mango', 'soup', 'followed', 'by', 'the', 'wide', 'variety', 'of', 'dishes', 'served', 'I', 'have', 'developed', 'the', 'new', 'love', 'for', 'Pongal', 'both', 'sweet', 'and', 'Khara', 'I', 'can', 'still', 'feel', 'the', 'taste', 'of', 'the', 'ghee', 'bursting', 'in', 'my', 'mouth', 'but', 'it', 'was', 'kai', 'holige', 'that', 'made', 'my', 'day', 'crisp', 'and', 'soft', 'not', 'to', 'forget', 'food', 'is', 'served', 'on', 'a', 'banana', 'leaf', 'that', 'adds', 'in', 'more', 'flavor', 'and', 'taste', 'waiters', 'are', 'attentive', 'and', 'responsive', 'The', 'customer', 's', 'needs', 'are', 'monitored', 'and', 'addressed', 'so', 'much', 'variety', 'for', 'just', 'Rs', 'without', 'compromising', 'on', 'quantity', 'and', 'quality', 'and', 'yes', 'it', 'is', 'unlimited', 'This', 'visit', 'turned', 'out', 'to', 'be', 'a', 'surprise', 'package', 'Rated', 'RATED', 'n', 'Food', 'is', 'good', 'nNo', 'parking', 'nAmbience', 'is', 'average', 'nOverall', 'its', 'value', 'for', 'money', 'if', 'you', 'looking', 'for', 'south', 'Indian', 'food', 'nPreferred', 'the', 'tiffin', 'items', 'Rated', 'RATED', 'n', 'Been', 'here', 'last', 'week', 'with', 'high', 'expectations', 'based', 'on', 'few', 'reviews', 'But', 'utterly', 'disappointed', 'with', 'the', 'food', 'quality', 'taste', 'I', 'feel', 'it', 's', 'an', 'overhyped', 'place', 'There', 'are', 'many', 'better', 'places', 'in', 'the', 'vicinity', 'for', 'Plantain', 'leaf', 'meal', 'There', 'was', 'too', 'much', 'of', 'waiting', 'these', 'staffs', 'were', 'too', 'hurry', 'in', 'serving', 'food', 'asking', 'people', 'to', 'finish', 'meal', 'leave', 'quickly', 'I', 'can', 'understand', 'there', 'is', 'a', 'waiting', 'and', 'staffs', 'should', 'approach', 'in', 'a', 'positive', 'way', 'I', 'will', 'never', 'go', 'there', 'again', 'n', 'nbangaloreepicure', 'com', 'Rated', 'RATED', 'n', 'I', 'have', 'a', 'confession', 'being', 'a', 'south', 'Indian', 'I', 'distaste', 'south', 'Indian', 'food', 'not', 'that', 'I', 'hate', 'it', 'I', 'don', 't', 'like', 'it', 'either', 'But', 'still', 'made', 'up', 'my', 'mind', 'on', 'Sankaranti', 'to', 'have', 'authentic', 'south', 'Indian', 'food', 'visited', 'Adduri', 'Udupi', 'Bhojana', 'because', 'it', 'was', 'close', 'to', 'my', 'place', 'I', 'just', 'had', 'a', 'look', 'at', 'the', 'menu', 'told', 'myself', 'that', 'I', 'can', 'do', 'it', 'I', 'am', 'not', 'blessed', 'with', 'a', 'tremendous', 'appetite', 'welcomed', 'with', 'the', 'mango', 'soup', 'followed', 'by', 'the', 'wide', 'variety', 'of', 'dishes', 'served', 'I', 'have', 'developed', 'the', 'new', 'love', 'for', 'Pongal', 'both', 'sweet', 'and', 'Khara', 'I', 'can', 'still', 'feel', 'the', 'taste', 'of', 'the', 'ghee', 'bursting', 'in', 'my', 'mouth', 'but', 'it', 'was', 'kai', 'holige', 'that', 'made', 'my', 'day', 'crisp', 'and', 'soft', 'not', 'to', 'forget', 'food', 'is', 'served', 'on', 'a', 'banana', 'leaf', 'that', 'adds', 'in', 'more', 'flavor', 'and', 'taste', 'waiters', 'are', 'attentive', 'and', 'responsive', 'The', 'customer', 's', 'needs', 'are', 'monitored', 'and', 'addressed', 'so', 'much', 'variety', 'for', 'just', 'Rs', 'without', 'compromising', 'on', 'quantity', 'and', 'quality', 'and', 'yes', 'it', 'is', 'unlimited', 'This', 'visit', 'turned', 'out', 'to', 'be', 'a', 'surprise', 'package', 'Rated', 'RATED', 'n', 'Food', 'is', 'good', 'nNo', 'parking', 'nAmbience', 'is', 'average', 'nOverall', 'its', 'value', 'for', 'money', 'if', 'you', 'looking', 'for', 'south', 'Indian', 'food', 'nPreferred', 'the', 'tiffin', 'items', 'Rated', 'RATED', 'n', 'Been', 'here', 'last', 'week', 'with', 'high', 'expectations', 'based', 'on', 'few', 'reviews', 'But', 'utterly', 'disappointed', 'with', 'the', 'food', 'quality', 'taste', 'I', 'feel', 'it', 's', 'an', 'overhyped', 'place', 'There', 'are', 'many', 'better', 'places', 'in', 'the', 'vicinity', 'for', 'Plantain', 'leaf', 'meal', 'There', 'was', 'too', 'much', 'of', 'waiting', 'these', 'staffs', 'were', 'too', 'hurry', 'in', 'serving', 'food', 'asking', 'people', 'to', 'finish', 'meal', 'leave', 'quickly', 'I', 'can', 'understand', 'there', 'is', 'a', 'waiting', 'and', 'staffs', 'should', 'approach', 'in', 'a', 'positive', 'way', 'I', 'will', 'never', 'go', 'there', 'again', 'n', 'nbangaloreepicure', 'com', 'Rated', 'RATED', 'n', 'I', 'have', 'a', 'confession', 'being', 'a', 'south', 'Indian', 'I', 'distaste', 'south', 'Indian', 'food', 'not', 'that', 'I', 'hate', 'it', 'I', 'don', 't', 'like', 'it', 'either', 'But', 'still', 'made', 'up', 'my', 'mind', 'on', 'Sankaranti', 'to', 'have', 'authentic', 'south', 'Indian', 'food', 'visited', 'Adduri', 'Udupi', 'Bhojana', 'because', 'it', 'was', 'close', 'to', 'my', 'place', 'I', 'just', 'had', 'a', 'look', 'at', 'the', 'menu', 'told', 'myself', 'that', 'I', 'can', 'do', 'it', 'I', 'am', 'not', 'blessed', 'with', 'a', 'tremendous', 'appetite', 'welcomed', 'with', 'the', 'mango', 'soup', 'followed', 'by', 'the', 'wide', 'variety', 'of', 'dishes', 'served', 'I', 'have', 'developed', 'the', 'new', 'love', 'for', 'Pongal', 'both', 'sweet', 'and', 'Khara', 'I', 'can', 'still', 'feel', 'the', 'taste', 'of', 'the', 'ghee', 'bursting', 'in', 'my', 'mouth', 'but', 'it', 'was', 'kai', 'holige', 'that', 'made', 'my', 'day', 'crisp', 'and', 'soft', 'not', 'to', 'forget', 'food', 'is', 'served', 'on', 'a', 'banana', 'leaf', 'that', 'adds', 'in', 'more', 'flavor', 'and', 'taste', 'waiters', 'are', 'attentive', 'and', 'responsive', 'The', 'customer', 's', 'needs', 'are', 'monitored', 'and', 'addressed', 'so', 'much', 'variety', 'for', 'just', 'Rs', 'without', 'compromising', 'on', 'quantity', 'and', 'quality', 'and', 'yes', 'it', 'is', 'unlimited', 'This', 'visit', 'turned', 'out', 'to', 'be', 'a', 'surprise', 'package', 'Rated', 'RATED', 'n', 'Food', 'is', 'good', 'nNo', 'parking', 'nAmbience', 'is', 'average', 'nOverall', 'its', 'value', 'for', 'money', 'if', 'you', 'looking', 'for', 'south', 'Indian', 'food', 'nPreferred', 'the', 'tiffin', 'items', 'Rated', 'RATED', 'n', 'Been', 'here', 'last', 'week', 'with', 'high', 'expectations', 'based', 'on', 'few', 'reviews', 'But', 'utterly', 'disappointed', 'with', 'the', 'food', 'quality', 'taste', 'I', 'feel', 'it', 's', 'an', 'overhyped', 'place', 'There', 'are', 'many', 'better', 'places', 'in', 'the', 'vicinity', 'for', 'Plantain', 'leaf', 'meal', 'There', 'was', 'too', 'much', 'of', 'waiting', 'these', 'staffs', 'were', 'too', 'hurry', 'in', 'serving', 'food', 'asking', 'people', 'to', 'finish', 'meal', 'leave', 'quickly', 'I', 'can', 'understand', 'there', 'is', 'a', 'waiting', 'and', 'staffs', 'should', 'approach', 'in', 'a', 'positive', 'way', 'I', 'will', 'never', 'go', 'there', 'again', 'n', 'nbangaloreepicure', 'com', 'Rated', 'RATED', 'n', 'I', 'have', 'a', 'confession', 'being', 'a', 'south', 'Indian', 'I', 'distaste', 'south', 'Indian', 'food', 'not', 'that', 'I', 'hate', 'it', 'I', 'don', 't', 'like', 'it', 'either', 'But', 'still', 'made', 'up', 'my', 'mind', 'on', 'Sankaranti', 'to', 'have', 'authentic', 'south', 'Indian', 'food', 'visited', 'Adduri', 'Udupi', 'Bhojana', 'because', 'it', 'was', 'close', 'to', 'my', 'place', 'I', 'just', 'had', 'a', 'look', 'at', 'the', 'menu', 'told', 'myself', 'that', 'I', 'can', 'do', 'it', 'I', 'am', 'not', 'blessed', 'with', 'a', 'tremendous', 'appetite', 'welcomed', 'with', 'the', 'mango', 'soup', 'followed', 'by', 'the', 'wide', 'variety', 'of', 'dishes', 'served', 'I', 'have', 'developed', 'the', 'new', 'love', 'for', 'Pongal', 'both', 'sweet', 'and', 'Khara', 'I', 'can', 'still', 'feel', 'the', 'taste', 'of', 'the', 'ghee', 'bursting', 'in', 'my', 'mouth', 'but', 'it', 'was', 'kai', 'holige', 'that', 'made', 'my', 'day', 'crisp', 'and', 'soft', 'not', 'to', 'forget', 'food', 'is', 'served', 'on', 'a', 'banana', 'leaf', 'that', 'adds', 'in', 'more', 'flavor', 'and', 'taste', 'waiters', 'are', 'attentive', 'and', 'responsive', 'The', 'customer', 's', 'needs', 'are', 'monitored', 'and', 'addressed', 'so', 'much', 'variety', 'for', 'just', 'Rs', 'without', 'compromising', 'on', 'quantity', 'and', 'quality', 'and', 'yes', 'it', 'is', 'unlimited', 'This', 'visit', 'turned', 'out', 'to', 'be', 'a', 'surprise', 'package', 'Rated', 'RATED', 'n', 'Food', 'is', 'good', 'nNo', 'parking', 'nAmbience', 'is', 'average', 'nOverall', 'its', 'value', 'for', 'money', 'if', 'you', 'looking', 'for', 'south', 'Indian', 'food', 'nPreferred', 'the', 'tiffin', 'items', 'Rated', 'RATED', 'n', 'Been', 'here', 'last', 'week', 'with', 'high', 'expectations', 'based', 'on', 'few', 'reviews', 'But', 'utterly', 'disappointed', 'with', 'the', 'food', 'quality', 'taste', 'I', 'feel', 'it', 's', 'an', 'overhyped', 'place', 'There', 'are', 'many', 'better', 'places', 'in', 'the', 'vicinity', 'for', 'Plantain', 'leaf', 'meal', 'There', 'was', 'too', 'much', 'of', 'waiting', 'these', 'staffs', 'were', 'too', 'hurry', 'in', 'serving', 'food', 'asking', 'people', 'to', 'finish', 'meal', 'leave', 'quickly', 'I', 'can', 'understand', 'there', 'is', 'a', 'waiting', 'and', 'staffs', 'should', 'approach', 'in', 'a', 'positive', 'way', 'I', 'will', 'never', 'go', 'there', 'again', 'n', 'nbangaloreepicure', 'com', 'Rated', 'RATED', 'n', 'I', 'have', 'a', 'confession', 'being', 'a', 'south', 'Indian', 'I', 'distaste', 'south', 'Indian', 'food', 'not', 'that', 'I', 'hate', 'it', 'I', 'don', 't', 'like', 'it', 'either', 'But', 'still', 'made', 'up', 'my', 'mind', 'on', 'Sankaranti', 'to', 'have', 'authentic', 'south', 'Indian', 'food', 'visited', 'Adduri', 'Udupi', 'Bhojana', 'because', 'it', 'was', 'close', 'to', 'my', 'place', 'I', 'just', 'had', 'a', 'look', 'at', 'the', 'menu', 'told', 'myself', 'that', 'I', 'can', 'do', 'it', 'I', 'am', 'not', 'blessed', 'with', 'a', 'tremendous', 'appetite', 'welcomed', 'with', 'the', 'mango', 'soup', 'followed', 'by', 'the', 'wide', 'variety', 'of', 'dishes', 'served', 'I', 'have', 'developed', 'the', 'new', 'love', 'for', 'Pongal', 'both', 'sweet', 'and', 'Khara', 'I', 'can', 'still', 'feel', 'the', 'taste', 'of', 'the', 'ghee', 'bursting', 'in', 'my', 'mouth', 'but', 'it', 'was', 'kai', 'holige', 'that', 'made', 'my', 'day', 'crisp', 'and', 'soft', 'not', 'to', 'forget', 'food', 'is', 'served', 'on', 'a', 'banana', 'leaf', 'that', 'adds', 'in', 'more', 'flavor', 'and', 'taste', 'waiters', 'are', 'attentive', 'and', 'responsive', 'The', 'customer', 's', 'needs', 'are', 'monitored', 'and', 'addressed', 'so', 'much', 'variety', 'for', 'just', 'Rs', 'without', 'compromising', 'on', 'quantity', 'and', 'quality', 'and', 'yes', 'it', 'is', 'unlimited', 'This', 'visit', 'turned', 'out', 'to', 'be', 'a', 'surprise', 'package', 'Rated', 'RATED', 'n', 'Food', 'is', 'good', 'nNo', 'parking', 'nAmbience', 'is', 'average', 'nOverall', 'its', 'value', 'for', 'money', 'if', 'you', 'looking', 'for', 'south', 'Indian', 'food', 'nPreferred', 'the', 'tiffin', 'items', 'Rated', 'RATED', 'n', 'Had', 'been', 'on', 'a', 'week', 'night', 'for', 'an', 'authentic', 'south', 'Indian', 'food', 'I', 'personally', 'love', 'being', 'served', 'on', 'banyan', 'leaf', 'The', 'waiters', 'are', 'all', 'dressed', 'up', 'in', 'traditional', 'Mysore', 'attire', 'wearing', 'with', 'a', 'peta', 'The', 'food', 'was', 'delicious', 'and', 'definitely', 'worth', 'it', 's', 'price', 'The', 'waiters', 'are', 'friendly', 'and', 'serve', 'u', 'well', 'with', 'a', 'smile', 'The', 'food', 'is', 'prepared', 'without', 'garlic', 'which', 'is', 'a', 'plus', 'point', 'attracting', 'many', 'senior', 'customers', 'Rated', 'RATED', 'n', 'Food', 'is', 'good', 'and', 'enjoyed', 'With', 'Rs', 'is', 'very', 'nice', 'nNote', 'It', 'happen', 'with', 'us', 'n', 'If', 'you', 'going', 'TWO', 'people', 'you', 'may', 'need', 'to', 'share', 'the', 'table', 'there', 'Its', 'almost', 'crowed', 'n', 'You', 'have', 'to', 'sit', 'where', 'they', 'ask', 'you', 'can', 't', 'choose', 'even', 'if', 'all', 'the', 'table', 'are', 'empty', 'nJust', 'wait', 'eat', 'and', 'come', 'back', 'Rated', 'RATED', 'n', 'Excellent', 'Ambience', 'with', 'delicious', 'meals', 'with', 'variety', 'types', 'Worth', 'paying', 'for', 'money', 'and', 'you', 'can', 'dine', 'out', 'if', 'you', 'are', 'with', 'more', 'friends', 'relatives', 'in', 'home', 'Rated', 'RATED', 'n', 'Very', 'good', 'and', 'Unlimited', 'especially', 'masala', 'dosa', 'Service', 'and', 'ambience', 'was', 'also', 'good', 'will', 'visit', 'again', 'with', 'friends', 'very', 'very', 'reasonble', 'and', 'wholesome', 'food', 'Rated', 'RATED', 'n', 'Aaaa', 'wt', 'to', 'tell', 'Unlimited', 'food', 'food', 'was', 'like', 'exactly', 'like', 'south', 'indian', 'marriage', 'food', 'soups', 'sides', 'masala', 'dosa', 'all', 'were', 'unlimited', 'for', 'just', 'except', 'ice', 'cream', 'in', 'the', 'end', 'they', 'give', 'a', 'water', 'bottle', 'and', 'main', 'thing', 'is', 'have', 'patience', 'to', 'get', 'place', 'to', 'sit', 'there', 'is', 'no', 'parking', 'place', 'of', 'this', 'outlet', 'and', 'difficult', 'to', 'park', 'in', 'front', 'of', 'the', 'restaurants']\n"
     ]
    }
   ],
   "source": [
    "rev3 = reviews_tokens[3]\n",
    "print(rev3)"
   ]
  },
  {
   "cell_type": "code",
   "execution_count": 46,
   "id": "5a28983c-841f-4ee4-8ac3-5b23987e8cbb",
   "metadata": {},
   "outputs": [
    {
     "name": "stdout",
     "output_type": "stream",
     "text": [
      "['Great', 'food', 'proper', 'Karnataka', 'style', 'full', 'meals', 'Been', 'twice', 'fully', 'satisfied', 'Will', 'give', 'stars', 'well', 'managed', 'Reached', 'place', 'pm', 'Saturday', 'Half', 'items', 'menu', 'What', 'annoying', 'food', 'cold', 'The', 'taste', 'also', 'average', 'Only', 'dosa', 'holige', 'good', 'There', 'people', 'restaurant', 'service', 'still', 'slow', 'The', 'waiters', 'standing', 'one', 'corner', 'talking', 'Had', 'call', 'repeatedly', 'Had', 'good', 'food', 'served', 'tasty', 'good', 'place', 'go', 'freinds', 'family', 'first', 'get', 'served', 'well', 'food', 'One', 'good', 'hotel', 'price', 'How', 'Udupi', 'restaurant', 'dirty', 'floor', 'walls', 'waiters', 'stained', 'food', 'Why', 'cant', 'clean', 'The', 'floor', 'even', 'decorative', 'colour', 'paper', 'every', 'lot', 'food', 'Now', 'coming', 'taste', 'food', 'pretty', 'decent', 'chargw', 'What', 'upset', 'us', 'menu', 'says', 'serve', 'thambuli', 'two', 'variety', 'rice', 'etc', 'still', 'charged', 'us', 'full', 'amount', 'Lastly', 'u', 'r', 'ok', 'b', 'seated', 'random', 'people', 'adjust', 'table', 'manners', 'burrping', 'etc', 'tis', 'place', 'decent', 'quick', 'veg', 'udupi', 'meals', 'Aadhuri', 'Udupi', 'bhojana', 'one', 'best', 'vegetarian', 'hotel', 'around', 'Banashankari', 'locality', 'nwere', 'enjoy', 'authentic', 'south', 'Karnataka', 'style', 'food', 'One', 'best', 'restaurants', 'unlimited', 'food', 'Price', 'one', 'full', 'unlimited', 'meal', 'service', 'awesome', 'If', 'costalian', 'love', 'food', 'served', 'Been', 'couple', 'times', 'Highly', 'satisfying', 'ocassions', 'Great', 'food', 'Decent', 'service', 'At', 'price', 'per', 'person', 'great', 'value', 'The', 'staff', 'serves', 'traditional', 'Mysore', 'style', 'dresses', 'The', 'food', 'authentic', 'Karnataka', 'meals', 'I', 'really', 'liked', 'pineapple', 'pickle', 'chutney', 'They', 'serve', 'varities', 'rice', 'try', 'would', 'already', 'full', 'Roti', 'Dosa', 'decent', 'In', 'deserts', 'Payasam', 'Holige', 'good', 'nI', 'think', 'one', 'must', 'try', 'places', 'try', 'authentic', 'south', 'food', 'even', 'likes', 'Kamath', 'etc', 'one', 'little', 'different', 'Very', 'good', 'restorent', 'good', 'south', 'Indian', 'food', 'nice', 'food', 'good', 'spent', 'good', 'time', 'food', 'hotel', 'value', 'money', 'loved', 'I', 'went', 'restaurant', 'Sunday', 'afternoon', 'It', 'bit', 'crowded', 'nIts', 'located', 'st', 'floor', 'Above', 'anna', 'kuteera', 'kathriguppe', 'nYou', 'need', 'take', 'food', 'coupon', 'ground', 'floor', 'nit', 'rs', 'nTaste', 'wise', 'good', 'nService', 'slow', 'nNothing', 'exciting', 'different', 'menu', 'nWhatever', 'serve', 'good', 'nWorth', 'money', 'Awesome', 'place', 'worth', 'price', 'quality', 'quantity', 'service', 'hygiene', 'discipline', 'I', 'loved', 'wish', 'rating', 'stars', 'give', 'I', 'give', 'sure', 'Nice', 'food', 'good', 'ambiance', 'many', 'verity', 'food', 'time', 'hurry', 'next', 'review', 'detailed', 'one', 'Its', 'good', 'see', 'dishes', 'one', 'place', 'The', 'food', 'satisfactory', 'Not', 'one', 'item', 'served', 'could', 'eaten', 'Only', 'advantage', 'price', 'even', 'going', 'enough', 'make', 'visit', 'place', 'Dear', 'Udupi', 'staff', 'people', 'mind', 'food', 'quality', 'better', 'higher', 'price', 'please', 'get', 'fans', 'people', 'deal', 'another', 'disappointment', 'sweating', 'eating', 'Excellent', 'quality', 'taste', 'variety', 'authentic', 'south', 'Indian', 'food', 'Excellent', 'service', 'Highly', 'recommended', 'Worth', 'money', 'pay', 'I', 'rating', 'large', 'number', 'items', 'serve', 'price', 'charge', 'While', 'taste', 'moderate', 'biggest', 'turn', 'poor', 'service', 'totally', 'unresponsive', 'staff', 'They', 'either', 'understaffed', 'poorly', 'trained', 'I', 'get', 'taste', 'items', 'thanks', 'ever', 'busy', 'staff', 'ended', 'eating', 'served', 'Please', 'learn', 'crowd', 'management', 'peers', 'like', 'maiyya', 'roti', 'ghar', 'One', 'colleagues', 'suggested', 'place', 'Went', 'pm', 'place', 'wasnt', 'crowded', 'Ambience', 'decent', 'cool', 'A', 'welcome', 'drink', 'appekai', 'saru', 'served', 'Then', 'started', 'typical', 'baale', 'yele', 'uta', 'Diffrerent', 'types', 'palya', 'kosambari', 'sides', 'Then', 'came', 'masala', 'dosa', 'pulka', 'pulav', 'veg', 'rice', 'bath', 'Masala', 'dosa', 'tasty', 'Service', 'bit', 'fast', 'people', 'coming', 'make', 'slow', 'u', 'tell', 'Then', 'comes', 'rice', 'sambar', 'rasam', 'daal', 'tambali', 'And', 'yes', 'dont', 'forget', 'eat', 'holige', 'payasam', 'icecream', 'Service', 'nice', 'One', 'best', 'thing', 'comes', 'rs', 'unlimited', 'What', 'else', 'want', 'A', 'must', 'visit', 'place', 'south', 'indian', 'foodie', 'Been', 'last', 'week', 'high', 'expectations', 'based', 'reviews', 'But', 'utterly', 'disappointed', 'food', 'quality', 'taste', 'I', 'feel', 'overhyped', 'place', 'There', 'many', 'better', 'places', 'vicinity', 'Plantain', 'leaf', 'meal', 'There', 'much', 'waiting', 'staffs', 'hurry', 'serving', 'food', 'asking', 'people', 'finish', 'meal', 'leave', 'quickly', 'I', 'understand', 'waiting', 'staffs', 'approach', 'positive', 'way', 'I', 'never', 'go', 'nbangaloreepicure', 'com', 'I', 'confession', 'south', 'Indian', 'I', 'distaste', 'south', 'Indian', 'food', 'I', 'hate', 'I', 'like', 'either', 'But', 'still', 'made', 'mind', 'Sankaranti', 'authentic', 'south', 'Indian', 'food', 'visited', 'Adduri', 'Udupi', 'Bhojana', 'close', 'place', 'I', 'look', 'menu', 'told', 'I', 'I', 'blessed', 'tremendous', 'appetite', 'welcomed', 'mango', 'soup', 'followed', 'wide', 'variety', 'dishes', 'served', 'I', 'developed', 'new', 'love', 'Pongal', 'sweet', 'Khara', 'I', 'still', 'feel', 'taste', 'ghee', 'bursting', 'mouth', 'kai', 'holige', 'made', 'day', 'crisp', 'soft', 'forget', 'food', 'served', 'banana', 'leaf', 'adds', 'flavor', 'taste', 'waiters', 'attentive', 'responsive', 'The', 'customer', 'needs', 'monitored', 'addressed', 'much', 'variety', 'Rs', 'without', 'compromising', 'quantity', 'quality', 'yes', 'unlimited', 'This', 'visit', 'turned', 'surprise', 'package', 'Food', 'good', 'nNo', 'parking', 'nAmbience', 'average', 'nOverall', 'value', 'money', 'looking', 'south', 'Indian', 'food', 'nPreferred', 'tiffin', 'items', 'Been', 'last', 'week', 'high', 'expectations', 'based', 'reviews', 'But', 'utterly', 'disappointed', 'food', 'quality', 'taste', 'I', 'feel', 'overhyped', 'place', 'There', 'many', 'better', 'places', 'vicinity', 'Plantain', 'leaf', 'meal', 'There', 'much', 'waiting', 'staffs', 'hurry', 'serving', 'food', 'asking', 'people', 'finish', 'meal', 'leave', 'quickly', 'I', 'understand', 'waiting', 'staffs', 'approach', 'positive', 'way', 'I', 'never', 'go', 'nbangaloreepicure', 'com', 'I', 'confession', 'south', 'Indian', 'I', 'distaste', 'south', 'Indian', 'food', 'I', 'hate', 'I', 'like', 'either', 'But', 'still', 'made', 'mind', 'Sankaranti', 'authentic', 'south', 'Indian', 'food', 'visited', 'Adduri', 'Udupi', 'Bhojana', 'close', 'place', 'I', 'look', 'menu', 'told', 'I', 'I', 'blessed', 'tremendous', 'appetite', 'welcomed', 'mango', 'soup', 'followed', 'wide', 'variety', 'dishes', 'served', 'I', 'developed', 'new', 'love', 'Pongal', 'sweet', 'Khara', 'I', 'still', 'feel', 'taste', 'ghee', 'bursting', 'mouth', 'kai', 'holige', 'made', 'day', 'crisp', 'soft', 'forget', 'food', 'served', 'banana', 'leaf', 'adds', 'flavor', 'taste', 'waiters', 'attentive', 'responsive', 'The', 'customer', 'needs', 'monitored', 'addressed', 'much', 'variety', 'Rs', 'without', 'compromising', 'quantity', 'quality', 'yes', 'unlimited', 'This', 'visit', 'turned', 'surprise', 'package', 'Food', 'good', 'nNo', 'parking', 'nAmbience', 'average', 'nOverall', 'value', 'money', 'looking', 'south', 'Indian', 'food', 'nPreferred', 'tiffin', 'items', 'Been', 'last', 'week', 'high', 'expectations', 'based', 'reviews', 'But', 'utterly', 'disappointed', 'food', 'quality', 'taste', 'I', 'feel', 'overhyped', 'place', 'There', 'many', 'better', 'places', 'vicinity', 'Plantain', 'leaf', 'meal', 'There', 'much', 'waiting', 'staffs', 'hurry', 'serving', 'food', 'asking', 'people', 'finish', 'meal', 'leave', 'quickly', 'I', 'understand', 'waiting', 'staffs', 'approach', 'positive', 'way', 'I', 'never', 'go', 'nbangaloreepicure', 'com', 'I', 'confession', 'south', 'Indian', 'I', 'distaste', 'south', 'Indian', 'food', 'I', 'hate', 'I', 'like', 'either', 'But', 'still', 'made', 'mind', 'Sankaranti', 'authentic', 'south', 'Indian', 'food', 'visited', 'Adduri', 'Udupi', 'Bhojana', 'close', 'place', 'I', 'look', 'menu', 'told', 'I', 'I', 'blessed', 'tremendous', 'appetite', 'welcomed', 'mango', 'soup', 'followed', 'wide', 'variety', 'dishes', 'served', 'I', 'developed', 'new', 'love', 'Pongal', 'sweet', 'Khara', 'I', 'still', 'feel', 'taste', 'ghee', 'bursting', 'mouth', 'kai', 'holige', 'made', 'day', 'crisp', 'soft', 'forget', 'food', 'served', 'banana', 'leaf', 'adds', 'flavor', 'taste', 'waiters', 'attentive', 'responsive', 'The', 'customer', 'needs', 'monitored', 'addressed', 'much', 'variety', 'Rs', 'without', 'compromising', 'quantity', 'quality', 'yes', 'unlimited', 'This', 'visit', 'turned', 'surprise', 'package', 'Food', 'good', 'nNo', 'parking', 'nAmbience', 'average', 'nOverall', 'value', 'money', 'looking', 'south', 'Indian', 'food', 'nPreferred', 'tiffin', 'items', 'Been', 'last', 'week', 'high', 'expectations', 'based', 'reviews', 'But', 'utterly', 'disappointed', 'food', 'quality', 'taste', 'I', 'feel', 'overhyped', 'place', 'There', 'many', 'better', 'places', 'vicinity', 'Plantain', 'leaf', 'meal', 'There', 'much', 'waiting', 'staffs', 'hurry', 'serving', 'food', 'asking', 'people', 'finish', 'meal', 'leave', 'quickly', 'I', 'understand', 'waiting', 'staffs', 'approach', 'positive', 'way', 'I', 'never', 'go', 'nbangaloreepicure', 'com', 'I', 'confession', 'south', 'Indian', 'I', 'distaste', 'south', 'Indian', 'food', 'I', 'hate', 'I', 'like', 'either', 'But', 'still', 'made', 'mind', 'Sankaranti', 'authentic', 'south', 'Indian', 'food', 'visited', 'Adduri', 'Udupi', 'Bhojana', 'close', 'place', 'I', 'look', 'menu', 'told', 'I', 'I', 'blessed', 'tremendous', 'appetite', 'welcomed', 'mango', 'soup', 'followed', 'wide', 'variety', 'dishes', 'served', 'I', 'developed', 'new', 'love', 'Pongal', 'sweet', 'Khara', 'I', 'still', 'feel', 'taste', 'ghee', 'bursting', 'mouth', 'kai', 'holige', 'made', 'day', 'crisp', 'soft', 'forget', 'food', 'served', 'banana', 'leaf', 'adds', 'flavor', 'taste', 'waiters', 'attentive', 'responsive', 'The', 'customer', 'needs', 'monitored', 'addressed', 'much', 'variety', 'Rs', 'without', 'compromising', 'quantity', 'quality', 'yes', 'unlimited', 'This', 'visit', 'turned', 'surprise', 'package', 'Food', 'good', 'nNo', 'parking', 'nAmbience', 'average', 'nOverall', 'value', 'money', 'looking', 'south', 'Indian', 'food', 'nPreferred', 'tiffin', 'items', 'Been', 'last', 'week', 'high', 'expectations', 'based', 'reviews', 'But', 'utterly', 'disappointed', 'food', 'quality', 'taste', 'I', 'feel', 'overhyped', 'place', 'There', 'many', 'better', 'places', 'vicinity', 'Plantain', 'leaf', 'meal', 'There', 'much', 'waiting', 'staffs', 'hurry', 'serving', 'food', 'asking', 'people', 'finish', 'meal', 'leave', 'quickly', 'I', 'understand', 'waiting', 'staffs', 'approach', 'positive', 'way', 'I', 'never', 'go', 'nbangaloreepicure', 'com', 'I', 'confession', 'south', 'Indian', 'I', 'distaste', 'south', 'Indian', 'food', 'I', 'hate', 'I', 'like', 'either', 'But', 'still', 'made', 'mind', 'Sankaranti', 'authentic', 'south', 'Indian', 'food', 'visited', 'Adduri', 'Udupi', 'Bhojana', 'close', 'place', 'I', 'look', 'menu', 'told', 'I', 'I', 'blessed', 'tremendous', 'appetite', 'welcomed', 'mango', 'soup', 'followed', 'wide', 'variety', 'dishes', 'served', 'I', 'developed', 'new', 'love', 'Pongal', 'sweet', 'Khara', 'I', 'still', 'feel', 'taste', 'ghee', 'bursting', 'mouth', 'kai', 'holige', 'made', 'day', 'crisp', 'soft', 'forget', 'food', 'served', 'banana', 'leaf', 'adds', 'flavor', 'taste', 'waiters', 'attentive', 'responsive', 'The', 'customer', 'needs', 'monitored', 'addressed', 'much', 'variety', 'Rs', 'without', 'compromising', 'quantity', 'quality', 'yes', 'unlimited', 'This', 'visit', 'turned', 'surprise', 'package', 'Food', 'good', 'nNo', 'parking', 'nAmbience', 'average', 'nOverall', 'value', 'money', 'looking', 'south', 'Indian', 'food', 'nPreferred', 'tiffin', 'items', 'Had', 'week', 'night', 'authentic', 'south', 'Indian', 'food', 'I', 'personally', 'love', 'served', 'banyan', 'leaf', 'The', 'waiters', 'dressed', 'traditional', 'Mysore', 'attire', 'wearing', 'peta', 'The', 'food', 'delicious', 'definitely', 'worth', 'price', 'The', 'waiters', 'friendly', 'serve', 'u', 'well', 'smile', 'The', 'food', 'prepared', 'without', 'garlic', 'plus', 'point', 'attracting', 'many', 'senior', 'customers', 'Food', 'good', 'enjoyed', 'With', 'Rs', 'nice', 'nNote', 'It', 'happen', 'us', 'If', 'going', 'TWO', 'people', 'may', 'need', 'share', 'table', 'Its', 'almost', 'crowed', 'You', 'sit', 'ask', 'choose', 'even', 'table', 'empty', 'nJust', 'wait', 'eat', 'come', 'back', 'Excellent', 'Ambience', 'delicious', 'meals', 'variety', 'types', 'Worth', 'paying', 'money', 'dine', 'friends', 'relatives', 'home', 'Very', 'good', 'Unlimited', 'especially', 'masala', 'dosa', 'Service', 'ambience', 'also', 'good', 'visit', 'friends', 'reasonble', 'wholesome', 'food', 'Aaaa', 'wt', 'tell', 'Unlimited', 'food', 'food', 'like', 'exactly', 'like', 'south', 'indian', 'marriage', 'food', 'soups', 'sides', 'masala', 'dosa', 'unlimited', 'except', 'ice', 'cream', 'end', 'give', 'water', 'bottle', 'main', 'thing', 'patience', 'get', 'place', 'sit', 'parking', 'place', 'outlet', 'difficult', 'park', 'front', 'restaurants']\n"
     ]
    }
   ],
   "source": [
    "print([i for i in rev3 if i not in stop])"
   ]
  },
  {
   "cell_type": "code",
   "execution_count": 47,
   "id": "99975de6-ab0d-4860-8321-48d8e0e0db97",
   "metadata": {},
   "outputs": [],
   "source": [
    "reviews_tokens_clean = reviews_tokens.apply(lambda each_token: [i for i in each_token if i not in stop])"
   ]
  },
  {
   "cell_type": "code",
   "execution_count": 48,
   "id": "3e6c28db-a626-488f-9f11-b6064d5400aa",
   "metadata": {},
   "outputs": [],
   "source": [
    "total_reviews_2d = list(reviews_tokens_clean)"
   ]
  },
  {
   "cell_type": "code",
   "execution_count": 49,
   "id": "39dba15a-7f9d-4eb0-9a61-ec93b698356c",
   "metadata": {},
   "outputs": [],
   "source": [
    "total_reviews_1D = []\n",
    "\n",
    "for review in total_reviews_2d:\n",
    "    for word in review:\n",
    "        total_reviews_1D.append(word)"
   ]
  },
  {
   "cell_type": "code",
   "execution_count": 50,
   "id": "d82b5c39-d8ec-432f-a37b-82620f0412dd",
   "metadata": {},
   "outputs": [],
   "source": [
    "from nltk import FreqDist"
   ]
  },
  {
   "cell_type": "code",
   "execution_count": 51,
   "id": "1199ca4e-210c-4c3c-97ff-77b5e7152ec6",
   "metadata": {},
   "outputs": [],
   "source": [
    "fd = FreqDist()"
   ]
  },
  {
   "cell_type": "code",
   "execution_count": 52,
   "id": "bdb1a5f6-65f8-49a1-bd18-282ab654b2a7",
   "metadata": {},
   "outputs": [],
   "source": [
    "for word in total_reviews_1D:\n",
    "    fd[word] =  fd[word] + 1"
   ]
  },
  {
   "cell_type": "code",
   "execution_count": 53,
   "id": "2e7e8f50-b6d3-421e-a314-5ea7935673fa",
   "metadata": {},
   "outputs": [
    {
     "data": {
      "text/plain": [
       "[('place', 139173),\n",
       " ('I', 137965),\n",
       " ('good', 134232),\n",
       " ('food', 126195),\n",
       " ('The', 97479),\n",
       " ('chicken', 46887),\n",
       " ('service', 41216),\n",
       " ('taste', 40063),\n",
       " ('ordered', 39651),\n",
       " ('great', 34402),\n",
       " ('really', 33942),\n",
       " ('time', 33052),\n",
       " ('try', 32415),\n",
       " ('one', 32079),\n",
       " ('ambience', 31703),\n",
       " ('like', 30679),\n",
       " ('also', 30647),\n",
       " ('It', 30487),\n",
       " ('visit', 27355),\n",
       " ('restaurant', 26421)]"
      ]
     },
     "execution_count": 53,
     "metadata": {},
     "output_type": "execute_result"
    }
   ],
   "source": [
    "fd.most_common(20)"
   ]
  },
  {
   "cell_type": "code",
   "execution_count": 54,
   "id": "791663b7-05be-47d6-81b6-3b3636313df5",
   "metadata": {},
   "outputs": [
    {
     "data": {
      "text/plain": [
       "<Axes: xlabel='Samples', ylabel='Counts'>"
      ]
     },
     "execution_count": 54,
     "metadata": {},
     "output_type": "execute_result"
    },
    {
     "data": {
      "image/png": "[encoded data removed]",
      "text/plain": [
       "<Figure size 640x480 with 1 Axes>"
      ]
     },
     "metadata": {},
     "output_type": "display_data"
    }
   ],
   "source": [
    "fd.plot(20)"
   ]
  },
  {
   "cell_type": "code",
   "execution_count": 55,
   "id": "4483ee7f-7d67-42a8-bbc9-fc8c39c56d5f",
   "metadata": {},
   "outputs": [],
   "source": [
    "from nltk import FreqDist, bigrams, trigrams"
   ]
  },
  {
   "cell_type": "code",
   "execution_count": 56,
   "id": "c25e48bd-2397-4cc1-8180-95fe1413131b",
   "metadata": {},
   "outputs": [],
   "source": [
    "bi_grams = bigrams(total_reviews_1D)"
   ]
  },
  {
   "cell_type": "code",
   "execution_count": 57,
   "id": "0bcfe9e3-9737-4242-983f-302f0dabdf77",
   "metadata": {},
   "outputs": [
    {
     "data": {
      "text/plain": [
       "<generator object bigrams at 0x0000026E2260CAC0>"
      ]
     },
     "execution_count": 57,
     "metadata": {},
     "output_type": "execute_result"
    }
   ],
   "source": [
    "bi_grams"
   ]
  },
  {
   "cell_type": "code",
   "execution_count": 58,
   "id": "2b9ab71f-4f5e-4519-a506-0cb63a0004dd",
   "metadata": {},
   "outputs": [],
   "source": [
    "fd_bigrams = FreqDist()\n",
    "\n",
    "for bigram in bi_grams:\n",
    "    fd_bigrams[bigram] = fd_bigrams[bigram]+1"
   ]
  },
  {
   "cell_type": "code",
   "execution_count": 59,
   "id": "2d27c4a4-668b-4dbf-8475-2aa4e40071c5",
   "metadata": {},
   "outputs": [
    {
     "data": {
      "text/plain": [
       "[(('The', 'food'), 10497),\n",
       " (('I', 'ordered'), 10159),\n",
       " (('really', 'good'), 9575),\n",
       " (('This', 'place'), 8208),\n",
       " (('must', 'try'), 7824),\n",
       " (('I', 'would'), 7353),\n",
       " (('We', 'ordered'), 7223),\n",
       " (('visit', 'place'), 6897),\n",
       " (('food', 'good'), 6823),\n",
       " (('good', 'food'), 6482),\n",
       " (('The', 'place'), 6158),\n",
       " (('main', 'course'), 5544),\n",
       " (('non', 'veg'), 5364),\n",
       " (('good', 'place'), 5339),\n",
       " (('ice', 'cream'), 5287),\n",
       " (('also', 'good'), 5083),\n",
       " (('The', 'ambience'), 4798),\n",
       " (('I', 'tried'), 4523),\n",
       " (('good', 'I'), 4139),\n",
       " (('good', 'The'), 4078)]"
      ]
     },
     "execution_count": 59,
     "metadata": {},
     "output_type": "execute_result"
    }
   ],
   "source": [
    "fd_bigrams.most_common(20)"
   ]
  },
  {
   "cell_type": "code",
   "execution_count": 60,
   "id": "4b712eee-309b-456b-9d8d-b2f93cc8b642",
   "metadata": {},
   "outputs": [
    {
     "data": {
      "text/plain": [
       "<Axes: xlabel='Samples', ylabel='Counts'>"
      ]
     },
     "execution_count": 60,
     "metadata": {},
     "output_type": "execute_result"
    },
    {
     "data": {
      "image/png": "[encoded data removed]",
      "text/plain": [
       "<Figure size 640x480 with 1 Axes>"
      ]
     },
     "metadata": {},
     "output_type": "display_data"
    }
   ],
   "source": [
    "fd_bigrams.plot(20)"
   ]
  },
  {
   "cell_type": "code",
   "execution_count": 61,
   "id": "76310e94-b162-451a-9478-feaf8f40a167",
   "metadata": {},
   "outputs": [],
   "source": [
    "tri_grams = trigrams(total_reviews_1D)"
   ]
  },
  {
   "cell_type": "code",
   "execution_count": 62,
   "id": "c44e327e-a354-4eb0-a1b9-05003832168b",
   "metadata": {},
   "outputs": [],
   "source": [
    "fd_trigrams = FreqDist()\n",
    "\n",
    "for trigram in tri_grams:\n",
    "    fd_trigrams[trigram] = fd_trigrams[trigram]+1"
   ]
  },
  {
   "cell_type": "code",
   "execution_count": 63,
   "id": "eaaa227a-7a3c-4989-8e21-1f7807b56f38",
   "metadata": {},
   "outputs": [
    {
     "data": {
      "text/plain": [
       "[(('veg', 'non', 'veg'), 1525),\n",
       " (('must', 'visit', 'place'), 1487),\n",
       " (('The', 'food', 'good'), 1339),\n",
       " (('place', 'hangout', 'friends'), 1165),\n",
       " (('I', 'must', 'say'), 1131),\n",
       " (('I', 'would', 'recommend'), 1059),\n",
       " (('I', 'visited', 'place'), 1054),\n",
       " (('I', 'would', 'say'), 979),\n",
       " (('place', 'hang', 'friends'), 967),\n",
       " (('food', 'really', 'good'), 886),\n",
       " (('nFood', 'nAmbience', 'nService'), 845),\n",
       " (('A', 'must', 'visit'), 768),\n",
       " (('The', 'ambience', 'good'), 751),\n",
       " (('A', 'good', 'place'), 737),\n",
       " (('North', 'Indian', 'food'), 675),\n",
       " (('I', 'would', 'like'), 619),\n",
       " (('nFood', 'nService', 'nAmbience'), 607),\n",
       " (('A', 'must', 'try'), 603),\n",
       " (('I', 'really', 'liked'), 595),\n",
       " (('I', 'ordered', 'chicken'), 582)]"
      ]
     },
     "execution_count": 63,
     "metadata": {},
     "output_type": "execute_result"
    }
   ],
   "source": [
    "fd_trigrams.most_common(20)"
   ]
  },
  {
   "cell_type": "code",
   "execution_count": 64,
   "id": "c4ed31be-844c-4e90-b4b6-3a20f9e902d8",
   "metadata": {},
   "outputs": [
    {
     "data": {
      "text/plain": [
       "<Axes: xlabel='Samples', ylabel='Counts'>"
      ]
     },
     "execution_count": 64,
     "metadata": {},
     "output_type": "execute_result"
    },
    {
     "data": {
      "image/png": "[encoded data removed]",
      "text/plain": [
       "<Figure size 640x480 with 1 Axes>"
      ]
     },
     "metadata": {},
     "output_type": "display_data"
    }
   ],
   "source": [
    "fd_trigrams.plot(20)"
   ]
  },
  {
   "cell_type": "code",
   "execution_count": 67,
   "id": "c20169c5-50b1-4b34-8329-4c7d76ae201b",
   "metadata": {},
   "outputs": [
    {
     "data": {
      "text/plain": [
       "94"
      ]
     },
     "execution_count": 67,
     "metadata": {},
     "output_type": "execute_result"
    }
   ],
   "source": [
    "len(df['location'].unique())"
   ]
  },
  {
   "cell_type": "code",
   "execution_count": 69,
   "id": "9e4f5679-8176-43f4-98d7-23ef686cb7ec",
   "metadata": {},
   "outputs": [],
   "source": [
    "df['location'] = df['location'] + \" , Bangalore , Karnataka , India\""
   ]
  },
  {
   "cell_type": "code",
   "execution_count": 70,
   "id": "212a93d5-9691-4e1e-b0ae-9d51c11f11c7",
   "metadata": {},
   "outputs": [
    {
     "data": {
      "text/plain": [
       "0             Banashankari , Bangalore , Karnataka , India\n",
       "1             Banashankari , Bangalore , Karnataka , India\n",
       "2             Banashankari , Bangalore , Karnataka , India\n",
       "3             Banashankari , Bangalore , Karnataka , India\n",
       "4             Basavanagudi , Bangalore , Karnataka , India\n",
       "                               ...                        \n",
       "51712           Whitefield , Bangalore , Karnataka , India\n",
       "51713           Whitefield , Bangalore , Karnataka , India\n",
       "51714           Whitefield , Bangalore , Karnataka , India\n",
       "51715    ITPL Main Road, Whitefield , Bangalore , Karna...\n",
       "51716    ITPL Main Road, Whitefield , Bangalore , Karna...\n",
       "Name: location, Length: 51717, dtype: object"
      ]
     },
     "execution_count": 70,
     "metadata": {},
     "output_type": "execute_result"
    }
   ],
   "source": [
    "df['location']"
   ]
  },
  {
   "cell_type": "code",
   "execution_count": 71,
   "id": "d9739f1a-55c3-4faa-9689-6d4d60ab59b1",
   "metadata": {},
   "outputs": [],
   "source": [
    "df_copy = df.copy()"
   ]
  },
  {
   "cell_type": "code",
   "execution_count": 72,
   "id": "3354a9b3-3d9d-46db-ba9e-ec6640a031a4",
   "metadata": {},
   "outputs": [
    {
     "data": {
      "text/plain": [
       "np.int64(21)"
      ]
     },
     "execution_count": 72,
     "metadata": {},
     "output_type": "execute_result"
    }
   ],
   "source": [
    "df_copy['location'].isnull().sum()"
   ]
  },
  {
   "cell_type": "code",
   "execution_count": 73,
   "id": "bcc6a233-a429-4d53-9c51-762990aaccf2",
   "metadata": {},
   "outputs": [],
   "source": [
    "df_copy = df_copy.dropna(subset= ['location'])"
   ]
  },
  {
   "cell_type": "code",
   "execution_count": 74,
   "id": "208bd78c-4109-44ef-ac45-92db8a04aaf5",
   "metadata": {},
   "outputs": [
    {
     "data": {
      "text/plain": [
       "np.int64(0)"
      ]
     },
     "execution_count": 74,
     "metadata": {},
     "output_type": "execute_result"
    }
   ],
   "source": [
    "df_copy['location'].isnull().sum()"
   ]
  },
  {
   "cell_type": "code",
   "execution_count": 77,
   "id": "a916e035-8500-45fe-a1fe-6f2d06f8000c",
   "metadata": {},
   "outputs": [],
   "source": [
    "locations = pd.DataFrame(df_copy['location'].unique())"
   ]
  },
  {
   "cell_type": "code",
   "execution_count": 79,
   "id": "a9fd709c-1ced-47e7-a121-e21b7f2dd221",
   "metadata": {},
   "outputs": [],
   "source": [
    "locations.columns = ['Name']"
   ]
  },
  {
   "cell_type": "code",
   "execution_count": 80,
   "id": "bc0c2843-127e-4c7c-8edf-5eb5f55b931c",
   "metadata": {},
   "outputs": [
    {
     "data": {
      "text/html": [
       "<div>\n",
       "<style scoped>\n",
       "    .dataframe tbody tr th:only-of-type {\n",
       "        vertical-align: middle;\n",
       "    }\n",
       "\n",
       "    .dataframe tbody tr th {\n",
       "        vertical-align: top;\n",
       "    }\n",
       "\n",
       "    .dataframe thead th {\n",
       "        text-align: right;\n",
       "    }\n",
       "</style>\n",
       "<table border=\"1\" class=\"dataframe\">\n",
       "  <thead>\n",
       "    <tr style=\"text-align: right;\">\n",
       "      <th></th>\n",
       "      <th>Name</th>\n",
       "    </tr>\n",
       "  </thead>\n",
       "  <tbody>\n",
       "    <tr>\n",
       "      <th>0</th>\n",
       "      <td>Banashankari , Bangalore , Karnataka , India</td>\n",
       "    </tr>\n",
       "    <tr>\n",
       "      <th>1</th>\n",
       "      <td>Basavanagudi , Bangalore , Karnataka , India</td>\n",
       "    </tr>\n",
       "    <tr>\n",
       "      <th>2</th>\n",
       "      <td>Mysore Road , Bangalore , Karnataka , India</td>\n",
       "    </tr>\n",
       "    <tr>\n",
       "      <th>3</th>\n",
       "      <td>Jayanagar , Bangalore , Karnataka , India</td>\n",
       "    </tr>\n",
       "    <tr>\n",
       "      <th>4</th>\n",
       "      <td>Kumaraswamy Layout , Bangalore , Karnataka , I...</td>\n",
       "    </tr>\n",
       "    <tr>\n",
       "      <th>...</th>\n",
       "      <td>...</td>\n",
       "    </tr>\n",
       "    <tr>\n",
       "      <th>88</th>\n",
       "      <td>West Bangalore , Bangalore , Karnataka , India</td>\n",
       "    </tr>\n",
       "    <tr>\n",
       "      <th>89</th>\n",
       "      <td>Magadi Road , Bangalore , Karnataka , India</td>\n",
       "    </tr>\n",
       "    <tr>\n",
       "      <th>90</th>\n",
       "      <td>Yelahanka , Bangalore , Karnataka , India</td>\n",
       "    </tr>\n",
       "    <tr>\n",
       "      <th>91</th>\n",
       "      <td>Sahakara Nagar , Bangalore , Karnataka , India</td>\n",
       "    </tr>\n",
       "    <tr>\n",
       "      <th>92</th>\n",
       "      <td>Peenya , Bangalore , Karnataka , India</td>\n",
       "    </tr>\n",
       "  </tbody>\n",
       "</table>\n",
       "<p>93 rows × 1 columns</p>\n",
       "</div>"
      ],
      "text/plain": [
       "                                                 Name\n",
       "0        Banashankari , Bangalore , Karnataka , India\n",
       "1        Basavanagudi , Bangalore , Karnataka , India\n",
       "2         Mysore Road , Bangalore , Karnataka , India\n",
       "3           Jayanagar , Bangalore , Karnataka , India\n",
       "4   Kumaraswamy Layout , Bangalore , Karnataka , I...\n",
       "..                                                ...\n",
       "88     West Bangalore , Bangalore , Karnataka , India\n",
       "89        Magadi Road , Bangalore , Karnataka , India\n",
       "90          Yelahanka , Bangalore , Karnataka , India\n",
       "91     Sahakara Nagar , Bangalore , Karnataka , India\n",
       "92             Peenya , Bangalore , Karnataka , India\n",
       "\n",
       "[93 rows x 1 columns]"
      ]
     },
     "execution_count": 80,
     "metadata": {},
     "output_type": "execute_result"
    }
   ],
   "source": [
    "locations"
   ]
  },
  {
   "cell_type": "code",
   "execution_count": 81,
   "id": "aa71d0e3-9399-4f87-8ad9-f670da63f273",
   "metadata": {},
   "outputs": [],
   "source": [
    "from geopy.geocoders import Nominatim"
   ]
  },
  {
   "cell_type": "code",
   "execution_count": 82,
   "id": "9391d02d-c1b4-4efc-931a-122973297f54",
   "metadata": {},
   "outputs": [],
   "source": [
    "geolocator = Nominatim(user_agent=\"app\", timeout= None)"
   ]
  },
  {
   "cell_type": "code",
   "execution_count": 84,
   "id": "7cf4f815-d12d-4aab-91c2-1fa2c1396162",
   "metadata": {},
   "outputs": [],
   "source": [
    "lat=[]\n",
    "lon=[]\n",
    "\n",
    "for location in locations['Name']:\n",
    "    location = geolocator.geocode(location)\n",
    "    if location is None:\n",
    "        lat.append(np.nan)\n",
    "        lon.append(np.nan)\n",
    "    else:\n",
    "        lat.append(location.latitude)\n",
    "        lon.append(location.longitude)"
   ]
  },
  {
   "cell_type": "code",
   "execution_count": 85,
   "id": "513ccc17-f7a3-4ef2-8447-3e1537d70495",
   "metadata": {},
   "outputs": [],
   "source": [
    "locations['latitude'] = lat\n",
    "locations['longitude'] = lon"
   ]
  },
  {
   "cell_type": "code",
   "execution_count": 86,
   "id": "bc0b3f45-be51-46f8-a4d7-d455919abaad",
   "metadata": {},
   "outputs": [
    {
     "data": {
      "text/html": [
       "<div>\n",
       "<style scoped>\n",
       "    .dataframe tbody tr th:only-of-type {\n",
       "        vertical-align: middle;\n",
       "    }\n",
       "\n",
       "    .dataframe tbody tr th {\n",
       "        vertical-align: top;\n",
       "    }\n",
       "\n",
       "    .dataframe thead th {\n",
       "        text-align: right;\n",
       "    }\n",
       "</style>\n",
       "<table border=\"1\" class=\"dataframe\">\n",
       "  <thead>\n",
       "    <tr style=\"text-align: right;\">\n",
       "      <th></th>\n",
       "      <th>Name</th>\n",
       "      <th>latitude</th>\n",
       "      <th>longitude</th>\n",
       "    </tr>\n",
       "  </thead>\n",
       "  <tbody>\n",
       "    <tr>\n",
       "      <th>0</th>\n",
       "      <td>Banashankari , Bangalore , Karnataka , India</td>\n",
       "      <td>12.927820</td>\n",
       "      <td>77.556621</td>\n",
       "    </tr>\n",
       "    <tr>\n",
       "      <th>1</th>\n",
       "      <td>Basavanagudi , Bangalore , Karnataka , India</td>\n",
       "      <td>12.941726</td>\n",
       "      <td>77.575502</td>\n",
       "    </tr>\n",
       "    <tr>\n",
       "      <th>2</th>\n",
       "      <td>Mysore Road , Bangalore , Karnataka , India</td>\n",
       "      <td>12.946662</td>\n",
       "      <td>77.530090</td>\n",
       "    </tr>\n",
       "    <tr>\n",
       "      <th>3</th>\n",
       "      <td>Jayanagar , Bangalore , Karnataka , India</td>\n",
       "      <td>12.929273</td>\n",
       "      <td>77.582423</td>\n",
       "    </tr>\n",
       "    <tr>\n",
       "      <th>4</th>\n",
       "      <td>Kumaraswamy Layout , Bangalore , Karnataka , I...</td>\n",
       "      <td>12.906768</td>\n",
       "      <td>77.559502</td>\n",
       "    </tr>\n",
       "    <tr>\n",
       "      <th>...</th>\n",
       "      <td>...</td>\n",
       "      <td>...</td>\n",
       "      <td>...</td>\n",
       "    </tr>\n",
       "    <tr>\n",
       "      <th>88</th>\n",
       "      <td>West Bangalore , Bangalore , Karnataka , India</td>\n",
       "      <td>12.952903</td>\n",
       "      <td>77.515800</td>\n",
       "    </tr>\n",
       "    <tr>\n",
       "      <th>89</th>\n",
       "      <td>Magadi Road , Bangalore , Karnataka , India</td>\n",
       "      <td>12.975608</td>\n",
       "      <td>77.555356</td>\n",
       "    </tr>\n",
       "    <tr>\n",
       "      <th>90</th>\n",
       "      <td>Yelahanka , Bangalore , Karnataka , India</td>\n",
       "      <td>13.100698</td>\n",
       "      <td>77.596345</td>\n",
       "    </tr>\n",
       "    <tr>\n",
       "      <th>91</th>\n",
       "      <td>Sahakara Nagar , Bangalore , Karnataka , India</td>\n",
       "      <td>13.062147</td>\n",
       "      <td>77.580061</td>\n",
       "    </tr>\n",
       "    <tr>\n",
       "      <th>92</th>\n",
       "      <td>Peenya , Bangalore , Karnataka , India</td>\n",
       "      <td>13.033051</td>\n",
       "      <td>77.533223</td>\n",
       "    </tr>\n",
       "  </tbody>\n",
       "</table>\n",
       "<p>93 rows × 3 columns</p>\n",
       "</div>"
      ],
      "text/plain": [
       "                                                 Name   latitude  longitude\n",
       "0        Banashankari , Bangalore , Karnataka , India  12.927820  77.556621\n",
       "1        Basavanagudi , Bangalore , Karnataka , India  12.941726  77.575502\n",
       "2         Mysore Road , Bangalore , Karnataka , India  12.946662  77.530090\n",
       "3           Jayanagar , Bangalore , Karnataka , India  12.929273  77.582423\n",
       "4   Kumaraswamy Layout , Bangalore , Karnataka , I...  12.906768  77.559502\n",
       "..                                                ...        ...        ...\n",
       "88     West Bangalore , Bangalore , Karnataka , India  12.952903  77.515800\n",
       "89        Magadi Road , Bangalore , Karnataka , India  12.975608  77.555356\n",
       "90          Yelahanka , Bangalore , Karnataka , India  13.100698  77.596345\n",
       "91     Sahakara Nagar , Bangalore , Karnataka , India  13.062147  77.580061\n",
       "92             Peenya , Bangalore , Karnataka , India  13.033051  77.533223\n",
       "\n",
       "[93 rows x 3 columns]"
      ]
     },
     "execution_count": 86,
     "metadata": {},
     "output_type": "execute_result"
    }
   ],
   "source": [
    "locations"
   ]
  },
  {
   "cell_type": "code",
   "execution_count": 90,
   "id": "6deb7abe-c625-4e3b-b54b-34fe37be6544",
   "metadata": {},
   "outputs": [
    {
     "data": {
      "text/plain": [
       "Name         0\n",
       "latitude     2\n",
       "longitude    2\n",
       "dtype: int64"
      ]
     },
     "execution_count": 90,
     "metadata": {},
     "output_type": "execute_result"
    }
   ],
   "source": [
    "locations.isnull().sum()"
   ]
  },
  {
   "cell_type": "code",
   "execution_count": 92,
   "id": "b5df15d4-af95-4130-9832-3aa0c75fb4c6",
   "metadata": {},
   "outputs": [
    {
     "data": {
      "text/html": [
       "<div>\n",
       "<style scoped>\n",
       "    .dataframe tbody tr th:only-of-type {\n",
       "        vertical-align: middle;\n",
       "    }\n",
       "\n",
       "    .dataframe tbody tr th {\n",
       "        vertical-align: top;\n",
       "    }\n",
       "\n",
       "    .dataframe thead th {\n",
       "        text-align: right;\n",
       "    }\n",
       "</style>\n",
       "<table border=\"1\" class=\"dataframe\">\n",
       "  <thead>\n",
       "    <tr style=\"text-align: right;\">\n",
       "      <th></th>\n",
       "      <th>Name</th>\n",
       "      <th>latitude</th>\n",
       "      <th>longitude</th>\n",
       "    </tr>\n",
       "  </thead>\n",
       "  <tbody>\n",
       "    <tr>\n",
       "      <th>79</th>\n",
       "      <td>Rammurthy Nagar , Bangalore , Karnataka , India</td>\n",
       "      <td>NaN</td>\n",
       "      <td>NaN</td>\n",
       "    </tr>\n",
       "    <tr>\n",
       "      <th>85</th>\n",
       "      <td>Sadashiv Nagar , Bangalore , Karnataka , India</td>\n",
       "      <td>NaN</td>\n",
       "      <td>NaN</td>\n",
       "    </tr>\n",
       "  </tbody>\n",
       "</table>\n",
       "</div>"
      ],
      "text/plain": [
       "                                               Name  latitude  longitude\n",
       "79  Rammurthy Nagar , Bangalore , Karnataka , India       NaN        NaN\n",
       "85   Sadashiv Nagar , Bangalore , Karnataka , India       NaN        NaN"
      ]
     },
     "execution_count": 92,
     "metadata": {},
     "output_type": "execute_result"
    }
   ],
   "source": [
    "locations[locations['latitude'].isna()]"
   ]
  },
  {
   "cell_type": "code",
   "execution_count": 94,
   "id": "69c35ccd-4333-4535-9f8f-f2defba286ac",
   "metadata": {},
   "outputs": [
    {
     "name": "stderr",
     "output_type": "stream",
     "text": [
      "C:\\Users\\Mohammed R. Alshaer\\AppData\\Local\\Temp\\ipykernel_11152\\2961448484.py:1: FutureWarning: ChainedAssignmentError: behaviour will change in pandas 3.0!\n",
      "You are setting values through chained assignment. Currently this works in certain cases, but when using Copy-on-Write (which will become the default behaviour in pandas 3.0) this will never work to update the original DataFrame or Series, because the intermediate object on which we are setting values will behave as a copy.\n",
      "A typical example is when you are setting values in a column of a DataFrame, like:\n",
      "\n",
      "df[\"col\"][row_indexer] = value\n",
      "\n",
      "Use `df.loc[row_indexer, \"col\"] = values` instead, to perform the assignment in a single step and ensure this keeps updating the original `df`.\n",
      "\n",
      "See the caveats in the documentation: https://pandas.pydata.org/pandas-docs/stable/user_guide/indexing.html#returning-a-view-versus-a-copy\n",
      "\n",
      "  locations['latitude'][79] = 13.0120218\n",
      "C:\\Users\\Mohammed R. Alshaer\\AppData\\Local\\Temp\\ipykernel_11152\\2961448484.py:1: SettingWithCopyWarning: \n",
      "A value is trying to be set on a copy of a slice from a DataFrame\n",
      "\n",
      "See the caveats in the documentation: https://pandas.pydata.org/pandas-docs/stable/user_guide/indexing.html#returning-a-view-versus-a-copy\n",
      "  locations['latitude'][79] = 13.0120218\n",
      "C:\\Users\\Mohammed R. Alshaer\\AppData\\Local\\Temp\\ipykernel_11152\\2961448484.py:2: FutureWarning: ChainedAssignmentError: behaviour will change in pandas 3.0!\n",
      "You are setting values through chained assignment. Currently this works in certain cases, but when using Copy-on-Write (which will become the default behaviour in pandas 3.0) this will never work to update the original DataFrame or Series, because the intermediate object on which we are setting values will behave as a copy.\n",
      "A typical example is when you are setting values in a column of a DataFrame, like:\n",
      "\n",
      "df[\"col\"][row_indexer] = value\n",
      "\n",
      "Use `df.loc[row_indexer, \"col\"] = values` instead, to perform the assignment in a single step and ensure this keeps updating the original `df`.\n",
      "\n",
      "See the caveats in the documentation: https://pandas.pydata.org/pandas-docs/stable/user_guide/indexing.html#returning-a-view-versus-a-copy\n",
      "\n",
      "  locations['longitude'][79] = 77.6777817\n",
      "C:\\Users\\Mohammed R. Alshaer\\AppData\\Local\\Temp\\ipykernel_11152\\2961448484.py:2: SettingWithCopyWarning: \n",
      "A value is trying to be set on a copy of a slice from a DataFrame\n",
      "\n",
      "See the caveats in the documentation: https://pandas.pydata.org/pandas-docs/stable/user_guide/indexing.html#returning-a-view-versus-a-copy\n",
      "  locations['longitude'][79] = 77.6777817\n",
      "C:\\Users\\Mohammed R. Alshaer\\AppData\\Local\\Temp\\ipykernel_11152\\2961448484.py:3: FutureWarning: ChainedAssignmentError: behaviour will change in pandas 3.0!\n",
      "You are setting values through chained assignment. Currently this works in certain cases, but when using Copy-on-Write (which will become the default behaviour in pandas 3.0) this will never work to update the original DataFrame or Series, because the intermediate object on which we are setting values will behave as a copy.\n",
      "A typical example is when you are setting values in a column of a DataFrame, like:\n",
      "\n",
      "df[\"col\"][row_indexer] = value\n",
      "\n",
      "Use `df.loc[row_indexer, \"col\"] = values` instead, to perform the assignment in a single step and ensure this keeps updating the original `df`.\n",
      "\n",
      "See the caveats in the documentation: https://pandas.pydata.org/pandas-docs/stable/user_guide/indexing.html#returning-a-view-versus-a-copy\n",
      "\n",
      "  locations['latitude'][85] = 13.010316\n",
      "C:\\Users\\Mohammed R. Alshaer\\AppData\\Local\\Temp\\ipykernel_11152\\2961448484.py:3: SettingWithCopyWarning: \n",
      "A value is trying to be set on a copy of a slice from a DataFrame\n",
      "\n",
      "See the caveats in the documentation: https://pandas.pydata.org/pandas-docs/stable/user_guide/indexing.html#returning-a-view-versus-a-copy\n",
      "  locations['latitude'][85] = 13.010316\n",
      "C:\\Users\\Mohammed R. Alshaer\\AppData\\Local\\Temp\\ipykernel_11152\\2961448484.py:4: FutureWarning: ChainedAssignmentError: behaviour will change in pandas 3.0!\n",
      "You are setting values through chained assignment. Currently this works in certain cases, but when using Copy-on-Write (which will become the default behaviour in pandas 3.0) this will never work to update the original DataFrame or Series, because the intermediate object on which we are setting values will behave as a copy.\n",
      "A typical example is when you are setting values in a column of a DataFrame, like:\n",
      "\n",
      "df[\"col\"][row_indexer] = value\n",
      "\n",
      "Use `df.loc[row_indexer, \"col\"] = values` instead, to perform the assignment in a single step and ensure this keeps updating the original `df`.\n",
      "\n",
      "See the caveats in the documentation: https://pandas.pydata.org/pandas-docs/stable/user_guide/indexing.html#returning-a-view-versus-a-copy\n",
      "\n",
      "  locations['longitude'][85] = 77.580569\n",
      "C:\\Users\\Mohammed R. Alshaer\\AppData\\Local\\Temp\\ipykernel_11152\\2961448484.py:4: SettingWithCopyWarning: \n",
      "A value is trying to be set on a copy of a slice from a DataFrame\n",
      "\n",
      "See the caveats in the documentation: https://pandas.pydata.org/pandas-docs/stable/user_guide/indexing.html#returning-a-view-versus-a-copy\n",
      "  locations['longitude'][85] = 77.580569\n"
     ]
    }
   ],
   "source": [
    "locations['latitude'][79] = 13.0120218\n",
    "locations['longitude'][79] = 77.6777817\n",
    "locations['latitude'][85] = 13.010316\n",
    "locations['longitude'][85] = 77.580569"
   ]
  },
  {
   "cell_type": "code",
   "execution_count": 95,
   "id": "a1361803-22a4-442d-a086-b10fae5a6662",
   "metadata": {},
   "outputs": [
    {
     "data": {
      "text/plain": [
       "Name         0\n",
       "latitude     0\n",
       "longitude    0\n",
       "dtype: int64"
      ]
     },
     "execution_count": 95,
     "metadata": {},
     "output_type": "execute_result"
    }
   ],
   "source": [
    "locations.isnull().sum()"
   ]
  },
  {
   "cell_type": "code",
   "execution_count": 96,
   "id": "bac0f57d-99bf-4226-9db9-4d1c54d3a8ac",
   "metadata": {},
   "outputs": [
    {
     "data": {
      "text/plain": [
       "np.int64(24)"
      ]
     },
     "execution_count": 96,
     "metadata": {},
     "output_type": "execute_result"
    }
   ],
   "source": [
    "df_copy['cuisines'].isnull().sum()"
   ]
  },
  {
   "cell_type": "code",
   "execution_count": 100,
   "id": "6cb018cd-f87e-4e2d-a5b4-cf591f224238",
   "metadata": {},
   "outputs": [],
   "source": [
    "df_copy = df_copy.dropna(subset = ['cuisines'])"
   ]
  },
  {
   "cell_type": "code",
   "execution_count": 101,
   "id": "ae0fa497-1760-4adc-aa44-b7d6727ca45d",
   "metadata": {},
   "outputs": [
    {
     "data": {
      "text/plain": [
       "np.int64(0)"
      ]
     },
     "execution_count": 101,
     "metadata": {},
     "output_type": "execute_result"
    }
   ],
   "source": [
    "df_copy['cuisines'].isnull().sum()"
   ]
  },
  {
   "cell_type": "code",
   "execution_count": 103,
   "id": "15fba9fa-4c57-4811-8971-b334b631b6b2",
   "metadata": {},
   "outputs": [],
   "source": [
    "North_India = df_copy[df_copy['cuisines'].str.contains('North Indian')]"
   ]
  },
  {
   "cell_type": "code",
   "execution_count": 109,
   "id": "8d3b878e-5440-4dc9-89ca-37d79c170918",
   "metadata": {},
   "outputs": [],
   "source": [
    "count = North_India['location'].value_counts().reset_index().rename(columns={'location': 'Name'})"
   ]
  },
  {
   "cell_type": "code",
   "execution_count": 110,
   "id": "c4563fe5-2ccc-4437-a09b-ed0736df3110",
   "metadata": {},
   "outputs": [],
   "source": [
    "heat_df = count.merge(locations, on = 'Name', how = 'left')"
   ]
  },
  {
   "cell_type": "code",
   "execution_count": 111,
   "id": "2934ff94-badc-43d7-976d-bad54487b3da",
   "metadata": {},
   "outputs": [
    {
     "data": {
      "text/html": [
       "<div>\n",
       "<style scoped>\n",
       "    .dataframe tbody tr th:only-of-type {\n",
       "        vertical-align: middle;\n",
       "    }\n",
       "\n",
       "    .dataframe tbody tr th {\n",
       "        vertical-align: top;\n",
       "    }\n",
       "\n",
       "    .dataframe thead th {\n",
       "        text-align: right;\n",
       "    }\n",
       "</style>\n",
       "<table border=\"1\" class=\"dataframe\">\n",
       "  <thead>\n",
       "    <tr style=\"text-align: right;\">\n",
       "      <th></th>\n",
       "      <th>Name</th>\n",
       "      <th>count</th>\n",
       "      <th>latitude</th>\n",
       "      <th>longitude</th>\n",
       "    </tr>\n",
       "  </thead>\n",
       "  <tbody>\n",
       "    <tr>\n",
       "      <th>0</th>\n",
       "      <td>BTM , Bangalore , Karnataka , India</td>\n",
       "      <td>2469</td>\n",
       "      <td>12.911276</td>\n",
       "      <td>77.604565</td>\n",
       "    </tr>\n",
       "    <tr>\n",
       "      <th>1</th>\n",
       "      <td>HSR , Bangalore , Karnataka , India</td>\n",
       "      <td>1123</td>\n",
       "      <td>12.911623</td>\n",
       "      <td>77.638862</td>\n",
       "    </tr>\n",
       "    <tr>\n",
       "      <th>2</th>\n",
       "      <td>Whitefield , Bangalore , Karnataka , India</td>\n",
       "      <td>1059</td>\n",
       "      <td>12.996400</td>\n",
       "      <td>77.761423</td>\n",
       "    </tr>\n",
       "    <tr>\n",
       "      <th>3</th>\n",
       "      <td>Marathahalli , Bangalore , Karnataka , India</td>\n",
       "      <td>1038</td>\n",
       "      <td>12.955257</td>\n",
       "      <td>77.698416</td>\n",
       "    </tr>\n",
       "    <tr>\n",
       "      <th>4</th>\n",
       "      <td>JP Nagar , Bangalore , Karnataka , India</td>\n",
       "      <td>958</td>\n",
       "      <td>12.909694</td>\n",
       "      <td>77.586607</td>\n",
       "    </tr>\n",
       "  </tbody>\n",
       "</table>\n",
       "</div>"
      ],
      "text/plain": [
       "                                           Name  count   latitude  longitude\n",
       "0           BTM , Bangalore , Karnataka , India   2469  12.911276  77.604565\n",
       "1           HSR , Bangalore , Karnataka , India   1123  12.911623  77.638862\n",
       "2    Whitefield , Bangalore , Karnataka , India   1059  12.996400  77.761423\n",
       "3  Marathahalli , Bangalore , Karnataka , India   1038  12.955257  77.698416\n",
       "4      JP Nagar , Bangalore , Karnataka , India    958  12.909694  77.586607"
      ]
     },
     "execution_count": 111,
     "metadata": {},
     "output_type": "execute_result"
    }
   ],
   "source": [
    "heat_df.head()"
   ]
  },
  {
   "cell_type": "code",
   "execution_count": 113,
   "id": "1d9bb92a-ac67-4968-9108-8f01b0202305",
   "metadata": {},
   "outputs": [],
   "source": [
    "import folium"
   ]
  },
  {
   "cell_type": "code",
   "execution_count": 114,
   "id": "e0fe29a3-5d3a-41f8-a68a-ee589c005117",
   "metadata": {},
   "outputs": [],
   "source": [
    "basemap = folium.Map()"
   ]
  },
  {
   "cell_type": "code",
   "execution_count": 115,
   "id": "eebce88b-c4b2-41b3-a207-850afb3a610b",
   "metadata": {
    "collapsed": true,
    "jupyter": {
     "outputs_hidden": true
    }
   },
   "outputs": [
    {
     "data": {
      "text/html": [
       "<div style=\"width:100%;\"><div style=\"position:relative;width:100%;height:0;padding-bottom:60%;\"><span style=\"color:#565656\">Make this Notebook Trusted to load map: File -> Trust Notebook</span><iframe srcdoc=\"&lt;!DOCTYPE html&gt;\n",
       "&lt;html&gt;\n",
       "&lt;head&gt;\n",
       "    \n",
       "    &lt;meta http-equiv=&quot;content-type&quot; content=&quot;text/html; charset=UTF-8&quot; /&gt;\n",
       "    &lt;script src=&quot;https://cdn.jsdelivr.net/npm/leaflet@1.9.3/dist/leaflet.js&quot;&gt;&lt;/script&gt;\n",
       "    &lt;script src=&quot;https://code.jquery.com/jquery-3.7.1.min.js&quot;&gt;&lt;/script&gt;\n",
       "    &lt;script src=&quot;https://cdn.jsdelivr.net/npm/bootstrap@5.2.2/dist/js/bootstrap.bundle.min.js&quot;&gt;&lt;/script&gt;\n",
       "    &lt;script src=&quot;https://cdnjs.cloudflare.com/ajax/libs/Leaflet.awesome-markers/2.0.2/leaflet.awesome-markers.js&quot;&gt;&lt;/script&gt;\n",
       "    &lt;link rel=&quot;stylesheet&quot; href=&quot;https://cdn.jsdelivr.net/npm/leaflet@1.9.3/dist/leaflet.css&quot;/&gt;\n",
       "    &lt;link rel=&quot;stylesheet&quot; href=&quot;https://cdn.jsdelivr.net/npm/bootstrap@5.2.2/dist/css/bootstrap.min.css&quot;/&gt;\n",
       "    &lt;link rel=&quot;stylesheet&quot; href=&quot;https://netdna.bootstrapcdn.com/bootstrap/3.0.0/css/bootstrap-glyphicons.css&quot;/&gt;\n",
       "    &lt;link rel=&quot;stylesheet&quot; href=&quot;https://cdn.jsdelivr.net/npm/@fortawesome/fontawesome-free@6.2.0/css/all.min.css&quot;/&gt;\n",
       "    &lt;link rel=&quot;stylesheet&quot; href=&quot;https://cdnjs.cloudflare.com/ajax/libs/Leaflet.awesome-markers/2.0.2/leaflet.awesome-markers.css&quot;/&gt;\n",
       "    &lt;link rel=&quot;stylesheet&quot; href=&quot;https://cdn.jsdelivr.net/gh/python-visualization/folium/folium/templates/leaflet.awesome.rotate.min.css&quot;/&gt;\n",
       "    \n",
       "            &lt;meta name=&quot;viewport&quot; content=&quot;width=device-width,\n",
       "                initial-scale=1.0, maximum-scale=1.0, user-scalable=no&quot; /&gt;\n",
       "            &lt;style&gt;\n",
       "                #map_61f9cb6743f46fa2c9faebb795b8ba50 {\n",
       "                    position: relative;\n",
       "                    width: 100.0%;\n",
       "                    height: 100.0%;\n",
       "                    left: 0.0%;\n",
       "                    top: 0.0%;\n",
       "                }\n",
       "                .leaflet-container { font-size: 1rem; }\n",
       "            &lt;/style&gt;\n",
       "\n",
       "            &lt;style&gt;html, body {\n",
       "                width: 100%;\n",
       "                height: 100%;\n",
       "                margin: 0;\n",
       "                padding: 0;\n",
       "            }\n",
       "            &lt;/style&gt;\n",
       "\n",
       "            &lt;style&gt;#map {\n",
       "                position:absolute;\n",
       "                top:0;\n",
       "                bottom:0;\n",
       "                right:0;\n",
       "                left:0;\n",
       "                }\n",
       "            &lt;/style&gt;\n",
       "\n",
       "            &lt;script&gt;\n",
       "                L_NO_TOUCH = false;\n",
       "                L_DISABLE_3D = false;\n",
       "            &lt;/script&gt;\n",
       "\n",
       "        \n",
       "&lt;/head&gt;\n",
       "&lt;body&gt;\n",
       "    \n",
       "    \n",
       "            &lt;div class=&quot;folium-map&quot; id=&quot;map_61f9cb6743f46fa2c9faebb795b8ba50&quot; &gt;&lt;/div&gt;\n",
       "        \n",
       "&lt;/body&gt;\n",
       "&lt;script&gt;\n",
       "    \n",
       "    \n",
       "            var map_61f9cb6743f46fa2c9faebb795b8ba50 = L.map(\n",
       "                &quot;map_61f9cb6743f46fa2c9faebb795b8ba50&quot;,\n",
       "                {\n",
       "                    center: [0.0, 0.0],\n",
       "                    crs: L.CRS.EPSG3857,\n",
       "                    ...{\n",
       "  &quot;zoom&quot;: 1,\n",
       "  &quot;zoomControl&quot;: true,\n",
       "  &quot;preferCanvas&quot;: false,\n",
       "}\n",
       "\n",
       "                }\n",
       "            );\n",
       "\n",
       "            \n",
       "\n",
       "        \n",
       "    \n",
       "            var tile_layer_601ab3c9eaeb26dfd0f67bba31eda16c = L.tileLayer(\n",
       "                &quot;https://tile.openstreetmap.org/{z}/{x}/{y}.png&quot;,\n",
       "                {\n",
       "  &quot;minZoom&quot;: 0,\n",
       "  &quot;maxZoom&quot;: 19,\n",
       "  &quot;maxNativeZoom&quot;: 19,\n",
       "  &quot;noWrap&quot;: false,\n",
       "  &quot;attribution&quot;: &quot;\\u0026copy; \\u003ca href=\\&quot;https://www.openstreetmap.org/copyright\\&quot;\\u003eOpenStreetMap\\u003c/a\\u003e contributors&quot;,\n",
       "  &quot;subdomains&quot;: &quot;abc&quot;,\n",
       "  &quot;detectRetina&quot;: false,\n",
       "  &quot;tms&quot;: false,\n",
       "  &quot;opacity&quot;: 1,\n",
       "}\n",
       "\n",
       "            );\n",
       "        \n",
       "    \n",
       "            tile_layer_601ab3c9eaeb26dfd0f67bba31eda16c.addTo(map_61f9cb6743f46fa2c9faebb795b8ba50);\n",
       "        \n",
       "&lt;/script&gt;\n",
       "&lt;/html&gt;\" style=\"position:absolute;width:100%;height:100%;left:0;top:0;border:none !important;\" allowfullscreen webkitallowfullscreen mozallowfullscreen></iframe></div></div>"
      ],
      "text/plain": [
       "<folium.folium.Map at 0x26e36b57620>"
      ]
     },
     "execution_count": 115,
     "metadata": {},
     "output_type": "execute_result"
    }
   ],
   "source": [
    "basemap"
   ]
  },
  {
   "cell_type": "code",
   "execution_count": 116,
   "id": "204717ad-5c23-4694-988d-84cc750f427f",
   "metadata": {},
   "outputs": [],
   "source": [
    "from folium.plugins import HeatMap"
   ]
  },
  {
   "cell_type": "code",
   "execution_count": 118,
   "id": "87dc56f3-6f14-44a4-af0e-a5781d452d6f",
   "metadata": {},
   "outputs": [
    {
     "data": {
      "text/plain": [
       "<folium.plugins.heat_map.HeatMap at 0x26e36dab750>"
      ]
     },
     "execution_count": 118,
     "metadata": {},
     "output_type": "execute_result"
    }
   ],
   "source": [
    "HeatMap(heat_df[['latitude', 'longitude', 'count']]).add_to(basemap)"
   ]
  },
  {
   "cell_type": "code",
   "execution_count": 119,
   "id": "f954b529-a05e-436f-b259-0c51a71510ee",
   "metadata": {},
   "outputs": [
    {
     "data": {
      "text/html": [
       "<div style=\"width:100%;\"><div style=\"position:relative;width:100%;height:0;padding-bottom:60%;\"><span style=\"color:#565656\">Make this Notebook Trusted to load map: File -> Trust Notebook</span><iframe srcdoc=\"&lt;!DOCTYPE html&gt;\n",
       "&lt;html&gt;\n",
       "&lt;head&gt;\n",
       "    \n",
       "    &lt;meta http-equiv=&quot;content-type&quot; content=&quot;text/html; charset=UTF-8&quot; /&gt;\n",
       "    &lt;script src=&quot;https://cdn.jsdelivr.net/npm/leaflet@1.9.3/dist/leaflet.js&quot;&gt;&lt;/script&gt;\n",
       "    &lt;script src=&quot;https://code.jquery.com/jquery-3.7.1.min.js&quot;&gt;&lt;/script&gt;\n",
       "    &lt;script src=&quot;https://cdn.jsdelivr.net/npm/bootstrap@5.2.2/dist/js/bootstrap.bundle.min.js&quot;&gt;&lt;/script&gt;\n",
       "    &lt;script src=&quot;https://cdnjs.cloudflare.com/ajax/libs/Leaflet.awesome-markers/2.0.2/leaflet.awesome-markers.js&quot;&gt;&lt;/script&gt;\n",
       "    &lt;link rel=&quot;stylesheet&quot; href=&quot;https://cdn.jsdelivr.net/npm/leaflet@1.9.3/dist/leaflet.css&quot;/&gt;\n",
       "    &lt;link rel=&quot;stylesheet&quot; href=&quot;https://cdn.jsdelivr.net/npm/bootstrap@5.2.2/dist/css/bootstrap.min.css&quot;/&gt;\n",
       "    &lt;link rel=&quot;stylesheet&quot; href=&quot;https://netdna.bootstrapcdn.com/bootstrap/3.0.0/css/bootstrap-glyphicons.css&quot;/&gt;\n",
       "    &lt;link rel=&quot;stylesheet&quot; href=&quot;https://cdn.jsdelivr.net/npm/@fortawesome/fontawesome-free@6.2.0/css/all.min.css&quot;/&gt;\n",
       "    &lt;link rel=&quot;stylesheet&quot; href=&quot;https://cdnjs.cloudflare.com/ajax/libs/Leaflet.awesome-markers/2.0.2/leaflet.awesome-markers.css&quot;/&gt;\n",
       "    &lt;link rel=&quot;stylesheet&quot; href=&quot;https://cdn.jsdelivr.net/gh/python-visualization/folium/folium/templates/leaflet.awesome.rotate.min.css&quot;/&gt;\n",
       "    \n",
       "            &lt;meta name=&quot;viewport&quot; content=&quot;width=device-width,\n",
       "                initial-scale=1.0, maximum-scale=1.0, user-scalable=no&quot; /&gt;\n",
       "            &lt;style&gt;\n",
       "                #map_61f9cb6743f46fa2c9faebb795b8ba50 {\n",
       "                    position: relative;\n",
       "                    width: 100.0%;\n",
       "                    height: 100.0%;\n",
       "                    left: 0.0%;\n",
       "                    top: 0.0%;\n",
       "                }\n",
       "                .leaflet-container { font-size: 1rem; }\n",
       "            &lt;/style&gt;\n",
       "\n",
       "            &lt;style&gt;html, body {\n",
       "                width: 100%;\n",
       "                height: 100%;\n",
       "                margin: 0;\n",
       "                padding: 0;\n",
       "            }\n",
       "            &lt;/style&gt;\n",
       "\n",
       "            &lt;style&gt;#map {\n",
       "                position:absolute;\n",
       "                top:0;\n",
       "                bottom:0;\n",
       "                right:0;\n",
       "                left:0;\n",
       "                }\n",
       "            &lt;/style&gt;\n",
       "\n",
       "            &lt;script&gt;\n",
       "                L_NO_TOUCH = false;\n",
       "                L_DISABLE_3D = false;\n",
       "            &lt;/script&gt;\n",
       "\n",
       "        \n",
       "    &lt;script src=&quot;https://cdn.jsdelivr.net/gh/python-visualization/folium@main/folium/templates/leaflet_heat.min.js&quot;&gt;&lt;/script&gt;\n",
       "&lt;/head&gt;\n",
       "&lt;body&gt;\n",
       "    \n",
       "    \n",
       "            &lt;div class=&quot;folium-map&quot; id=&quot;map_61f9cb6743f46fa2c9faebb795b8ba50&quot; &gt;&lt;/div&gt;\n",
       "        \n",
       "&lt;/body&gt;\n",
       "&lt;script&gt;\n",
       "    \n",
       "    \n",
       "            var map_61f9cb6743f46fa2c9faebb795b8ba50 = L.map(\n",
       "                &quot;map_61f9cb6743f46fa2c9faebb795b8ba50&quot;,\n",
       "                {\n",
       "                    center: [0.0, 0.0],\n",
       "                    crs: L.CRS.EPSG3857,\n",
       "                    ...{\n",
       "  &quot;zoom&quot;: 1,\n",
       "  &quot;zoomControl&quot;: true,\n",
       "  &quot;preferCanvas&quot;: false,\n",
       "}\n",
       "\n",
       "                }\n",
       "            );\n",
       "\n",
       "            \n",
       "\n",
       "        \n",
       "    \n",
       "            var tile_layer_601ab3c9eaeb26dfd0f67bba31eda16c = L.tileLayer(\n",
       "                &quot;https://tile.openstreetmap.org/{z}/{x}/{y}.png&quot;,\n",
       "                {\n",
       "  &quot;minZoom&quot;: 0,\n",
       "  &quot;maxZoom&quot;: 19,\n",
       "  &quot;maxNativeZoom&quot;: 19,\n",
       "  &quot;noWrap&quot;: false,\n",
       "  &quot;attribution&quot;: &quot;\\u0026copy; \\u003ca href=\\&quot;https://www.openstreetmap.org/copyright\\&quot;\\u003eOpenStreetMap\\u003c/a\\u003e contributors&quot;,\n",
       "  &quot;subdomains&quot;: &quot;abc&quot;,\n",
       "  &quot;detectRetina&quot;: false,\n",
       "  &quot;tms&quot;: false,\n",
       "  &quot;opacity&quot;: 1,\n",
       "}\n",
       "\n",
       "            );\n",
       "        \n",
       "    \n",
       "            tile_layer_601ab3c9eaeb26dfd0f67bba31eda16c.addTo(map_61f9cb6743f46fa2c9faebb795b8ba50);\n",
       "        \n",
       "    \n",
       "            tile_layer_601ab3c9eaeb26dfd0f67bba31eda16c.addTo(map_61f9cb6743f46fa2c9faebb795b8ba50);\n",
       "        \n",
       "    \n",
       "            var heat_map_3179cf6d118cf39ac0800dd06266b196 = L.heatLayer(\n",
       "                [[12.9112759, 77.6045654, 2469.0], [12.9116225, 77.6388622, 1123.0], [12.9963995, 77.7614229, 1059.0], [12.9552572, 77.6984163, 1038.0], [12.9096941, 77.5866067, 958.0], [12.9348429, 77.6189768, 755.0], [12.9453394, 77.6025834, 701.0], [12.9732913, 77.6404672, 678.0], [12.8487599, 77.648253, 675.0], [12.9292731, 77.5824229, 664.0], [12.9361208, 77.6671843, 659.0], [12.9277245, 77.6327822, 601.0], [12.9243992, 77.6511213, 529.0], [12.9390255, 77.6238477, 408.0], [12.9364846, 77.6134783, 390.0], [12.9778793, 77.6246697, 376.0], [12.9755264, 77.6067902, 359.0], [12.9327778, 77.6294052, 351.0], [12.975022, 77.6079245, 323.0], [12.9650665, 77.5981409, 312.0], [12.9278196, 77.556621, 309.0], [12.9652094, 77.717936, 282.0], [12.9855286, 77.6054496, 272.0], [13.0317246, 77.570076, 267.0], [13.0221416, 77.6403368, 262.0], [13.0005359, 77.5496996, 230.0], [13.0141618, 77.6518539, 227.0], [12.9907797, 77.5874757, 224.0], [12.9555367, 77.5924278, 223.0], [13.0027353, 77.5703253, 215.0], [12.9692682, 77.6022207, 214.0], [12.9585436, 77.6656511, 214.0], [12.945245, 77.6274776, 202.0], [12.9975851, 77.6136744, 201.0], [12.9624669, 77.6381958, 199.0], [12.9417261, 77.5755021, 189.0], [13.0148544, 77.6382029, 175.0], [12.9746938, 77.6525547, 173.0], [12.9489339, 77.5968273, 132.0], [12.9089453, 77.6239038, 129.0], [12.9722287, 77.5986661, 128.0], [12.9921738, 77.591459, 127.0], [12.9758014, 77.6016924, 121.0], [12.9678074, 77.6568367, 117.0], [12.9408685, 77.617338, 103.0], [12.9067683, 77.5595021, 98.0], [13.0422794, 77.6248577, 96.0], [12.9282918, 77.6254034, 84.0], [12.9931876, 77.5753419, 83.0], [12.8744383, 77.5579029, 78.0], [12.9822423, 77.608265, 76.0], [12.9819637, 77.5766804, 76.0], [12.9148202, 77.6242204, 73.0], [13.0221838, 77.5530824, 72.0], [12.9779079, 77.5723936, 69.0], [13.037077, 77.6413572, 68.0], [12.9911804, 77.5448918, 65.0], [12.9810155, 77.6021329, 61.0], [12.9243692, 77.6242433, 58.0], [12.965718, 77.5762705, 58.0], [13.031992, 77.6280789, 51.0], [13.0227204, 77.595715, 51.0], [12.9876393, 77.7377718, 50.0], [12.9625188, 77.7482173, 47.0], [12.9846713, 77.6790908, 47.0], [12.9660726, 77.6125941, 35.0], [12.9578658, 77.6958748, 34.0], [12.9287596, 77.6287122, 31.0], [12.9850987, 77.6631173, 30.0], [12.957998, 77.6037312, 22.0], [13.010316, 77.580569, 20.0], [13.0394104, 77.5197351, 19.0], [12.9357366, 77.624081, 19.0], [12.9878064, 77.5873926, 17.0], [12.8775874, 77.5445576, 16.0], [13.0120218, 77.6777817, 14.0], [12.9808755, 77.7088576, 14.0], [12.9055682, 77.5455438, 13.0], [13.0621474, 77.5800614, 13.0], [13.007516, 77.695935, 12.0], [12.975608, 77.5553564, 12.0], [12.9466619, 77.5300896, 11.0], [13.0069152, 77.6882534, 7.0], [13.0222347, 77.5671832, 6.0], [12.9651215, 77.5090098, 5.0], [13.0382184, 77.5919, 4.0], [13.0784743, 77.6068938, 3.0], [12.9730087, 77.5804711, 2.0], [12.9529035, 77.5158003, 1.0], [13.0330515, 77.5332233, 1.0]],\n",
       "                {\n",
       "  &quot;minOpacity&quot;: 0.5,\n",
       "  &quot;maxZoom&quot;: 18,\n",
       "  &quot;radius&quot;: 25,\n",
       "  &quot;blur&quot;: 15,\n",
       "}\n",
       "            );\n",
       "        \n",
       "    \n",
       "            heat_map_3179cf6d118cf39ac0800dd06266b196.addTo(map_61f9cb6743f46fa2c9faebb795b8ba50);\n",
       "        \n",
       "&lt;/script&gt;\n",
       "&lt;/html&gt;\" style=\"position:absolute;width:100%;height:100%;left:0;top:0;border:none !important;\" allowfullscreen webkitallowfullscreen mozallowfullscreen></iframe></div></div>"
      ],
      "text/plain": [
       "<folium.folium.Map at 0x26e36b57620>"
      ]
     },
     "execution_count": 119,
     "metadata": {},
     "output_type": "execute_result"
    }
   ],
   "source": [
    "basemap"
   ]
  },
  {
   "cell_type": "code",
   "execution_count": 128,
   "id": "1bf52f03-0953-414b-ba9d-22cdf722c05c",
   "metadata": {},
   "outputs": [],
   "source": [
    "def get_heatmap(cuisine):\n",
    "    cuisine_df = df_copy[df_copy['cuisines'].str.contains(cuisine)]\n",
    "    count = cuisine_df['location'].value_counts().reset_index().rename(columns={'location': 'Name'})\n",
    "    heat_df = count.merge(locations, on = 'Name', how = 'left')\n",
    "    basemap = folium.Map()\n",
    "    HeatMap(heat_df[['latitude', 'longitude', 'count']]).add_to(basemap)\n",
    "    return basemap"
   ]
  },
  {
   "cell_type": "code",
   "execution_count": 124,
   "id": "52640231-2f10-4e1b-a835-7d68bc2d7486",
   "metadata": {},
   "outputs": [
    {
     "data": {
      "text/plain": [
       "array(['North Indian, Mughlai, Chinese', 'Chinese, North Indian, Thai',\n",
       "       'Cafe, Mexican, Italian', ...,\n",
       "       'North Indian, Street Food, Biryani', 'Chinese, Mughlai',\n",
       "       'North Indian, Chinese, Arabian, Momos'],\n",
       "      shape=(2723,), dtype=object)"
      ]
     },
     "execution_count": 124,
     "metadata": {},
     "output_type": "execute_result"
    }
   ],
   "source": [
    "df_copy['cuisines'].unique()"
   ]
  },
  {
   "cell_type": "code",
   "execution_count": 130,
   "id": "8898fa84-764b-4f23-9458-402fe2bc3797",
   "metadata": {},
   "outputs": [
    {
     "data": {
      "text/html": [
       "<div style=\"width:100%;\"><div style=\"position:relative;width:100%;height:0;padding-bottom:60%;\"><span style=\"color:#565656\">Make this Notebook Trusted to load map: File -> Trust Notebook</span><iframe srcdoc=\"&lt;!DOCTYPE html&gt;\n",
       "&lt;html&gt;\n",
       "&lt;head&gt;\n",
       "    \n",
       "    &lt;meta http-equiv=&quot;content-type&quot; content=&quot;text/html; charset=UTF-8&quot; /&gt;\n",
       "    &lt;script src=&quot;https://cdn.jsdelivr.net/npm/leaflet@1.9.3/dist/leaflet.js&quot;&gt;&lt;/script&gt;\n",
       "    &lt;script src=&quot;https://code.jquery.com/jquery-3.7.1.min.js&quot;&gt;&lt;/script&gt;\n",
       "    &lt;script src=&quot;https://cdn.jsdelivr.net/npm/bootstrap@5.2.2/dist/js/bootstrap.bundle.min.js&quot;&gt;&lt;/script&gt;\n",
       "    &lt;script src=&quot;https://cdnjs.cloudflare.com/ajax/libs/Leaflet.awesome-markers/2.0.2/leaflet.awesome-markers.js&quot;&gt;&lt;/script&gt;\n",
       "    &lt;link rel=&quot;stylesheet&quot; href=&quot;https://cdn.jsdelivr.net/npm/leaflet@1.9.3/dist/leaflet.css&quot;/&gt;\n",
       "    &lt;link rel=&quot;stylesheet&quot; href=&quot;https://cdn.jsdelivr.net/npm/bootstrap@5.2.2/dist/css/bootstrap.min.css&quot;/&gt;\n",
       "    &lt;link rel=&quot;stylesheet&quot; href=&quot;https://netdna.bootstrapcdn.com/bootstrap/3.0.0/css/bootstrap-glyphicons.css&quot;/&gt;\n",
       "    &lt;link rel=&quot;stylesheet&quot; href=&quot;https://cdn.jsdelivr.net/npm/@fortawesome/fontawesome-free@6.2.0/css/all.min.css&quot;/&gt;\n",
       "    &lt;link rel=&quot;stylesheet&quot; href=&quot;https://cdnjs.cloudflare.com/ajax/libs/Leaflet.awesome-markers/2.0.2/leaflet.awesome-markers.css&quot;/&gt;\n",
       "    &lt;link rel=&quot;stylesheet&quot; href=&quot;https://cdn.jsdelivr.net/gh/python-visualization/folium/folium/templates/leaflet.awesome.rotate.min.css&quot;/&gt;\n",
       "    \n",
       "            &lt;meta name=&quot;viewport&quot; content=&quot;width=device-width,\n",
       "                initial-scale=1.0, maximum-scale=1.0, user-scalable=no&quot; /&gt;\n",
       "            &lt;style&gt;\n",
       "                #map_88965adcdf92a315ac89df1bdaf2984a {\n",
       "                    position: relative;\n",
       "                    width: 100.0%;\n",
       "                    height: 100.0%;\n",
       "                    left: 0.0%;\n",
       "                    top: 0.0%;\n",
       "                }\n",
       "                .leaflet-container { font-size: 1rem; }\n",
       "            &lt;/style&gt;\n",
       "\n",
       "            &lt;style&gt;html, body {\n",
       "                width: 100%;\n",
       "                height: 100%;\n",
       "                margin: 0;\n",
       "                padding: 0;\n",
       "            }\n",
       "            &lt;/style&gt;\n",
       "\n",
       "            &lt;style&gt;#map {\n",
       "                position:absolute;\n",
       "                top:0;\n",
       "                bottom:0;\n",
       "                right:0;\n",
       "                left:0;\n",
       "                }\n",
       "            &lt;/style&gt;\n",
       "\n",
       "            &lt;script&gt;\n",
       "                L_NO_TOUCH = false;\n",
       "                L_DISABLE_3D = false;\n",
       "            &lt;/script&gt;\n",
       "\n",
       "        \n",
       "    &lt;script src=&quot;https://cdn.jsdelivr.net/gh/python-visualization/folium@main/folium/templates/leaflet_heat.min.js&quot;&gt;&lt;/script&gt;\n",
       "&lt;/head&gt;\n",
       "&lt;body&gt;\n",
       "    \n",
       "    \n",
       "            &lt;div class=&quot;folium-map&quot; id=&quot;map_88965adcdf92a315ac89df1bdaf2984a&quot; &gt;&lt;/div&gt;\n",
       "        \n",
       "&lt;/body&gt;\n",
       "&lt;script&gt;\n",
       "    \n",
       "    \n",
       "            var map_88965adcdf92a315ac89df1bdaf2984a = L.map(\n",
       "                &quot;map_88965adcdf92a315ac89df1bdaf2984a&quot;,\n",
       "                {\n",
       "                    center: [0.0, 0.0],\n",
       "                    crs: L.CRS.EPSG3857,\n",
       "                    ...{\n",
       "  &quot;zoom&quot;: 1,\n",
       "  &quot;zoomControl&quot;: true,\n",
       "  &quot;preferCanvas&quot;: false,\n",
       "}\n",
       "\n",
       "                }\n",
       "            );\n",
       "\n",
       "            \n",
       "\n",
       "        \n",
       "    \n",
       "            var tile_layer_648b9ff32d924b1e20c87a7b297064fb = L.tileLayer(\n",
       "                &quot;https://tile.openstreetmap.org/{z}/{x}/{y}.png&quot;,\n",
       "                {\n",
       "  &quot;minZoom&quot;: 0,\n",
       "  &quot;maxZoom&quot;: 19,\n",
       "  &quot;maxNativeZoom&quot;: 19,\n",
       "  &quot;noWrap&quot;: false,\n",
       "  &quot;attribution&quot;: &quot;\\u0026copy; \\u003ca href=\\&quot;https://www.openstreetmap.org/copyright\\&quot;\\u003eOpenStreetMap\\u003c/a\\u003e contributors&quot;,\n",
       "  &quot;subdomains&quot;: &quot;abc&quot;,\n",
       "  &quot;detectRetina&quot;: false,\n",
       "  &quot;tms&quot;: false,\n",
       "  &quot;opacity&quot;: 1,\n",
       "}\n",
       "\n",
       "            );\n",
       "        \n",
       "    \n",
       "            tile_layer_648b9ff32d924b1e20c87a7b297064fb.addTo(map_88965adcdf92a315ac89df1bdaf2984a);\n",
       "        \n",
       "    \n",
       "            var heat_map_79541b252a032a63d2f8f62dc40bacda = L.heatLayer(\n",
       "                [[12.9112759, 77.6045654, 1824.0], [12.9116225, 77.6388622, 760.0], [12.9348429, 77.6189768, 730.0], [12.9552572, 77.6984163, 668.0], [12.9096941, 77.5866067, 633.0], [12.9963995, 77.7614229, 629.0], [12.9292731, 77.5824229, 570.0], [12.9453394, 77.6025834, 510.0], [12.8487599, 77.648253, 509.0], [12.9732913, 77.6404672, 466.0], [12.9361208, 77.6671843, 375.0], [12.9277245, 77.6327822, 356.0], [12.975022, 77.6079245, 349.0], [12.9390255, 77.6238477, 322.0], [12.9243992, 77.6511213, 311.0], [12.9364846, 77.6134783, 284.0], [12.9327778, 77.6294052, 278.0], [12.9278196, 77.556621, 259.0], [12.9652094, 77.717936, 254.0], [13.0141618, 77.6518539, 254.0], [12.9778793, 77.6246697, 245.0], [12.9755264, 77.6067902, 242.0], [12.9650665, 77.5981409, 233.0], [13.0148544, 77.6382029, 211.0], [13.0005359, 77.5496996, 204.0], [12.9975851, 77.6136744, 200.0], [13.0317246, 77.570076, 196.0], [12.9692682, 77.6022207, 194.0], [12.945245, 77.6274776, 186.0], [12.9555367, 77.5924278, 174.0], [13.0221416, 77.6403368, 170.0], [12.9907797, 77.5874757, 170.0], [12.9855286, 77.6054496, 162.0], [13.0027353, 77.5703253, 157.0], [12.9417261, 77.5755021, 156.0], [12.9585436, 77.6656511, 145.0], [12.9624669, 77.6381958, 120.0], [12.9746938, 77.6525547, 105.0], [12.9089453, 77.6239038, 101.0], [12.9408685, 77.617338, 100.0], [12.9067683, 77.5595021, 99.0], [12.9921738, 77.591459, 94.0], [12.9489339, 77.5968273, 92.0], [12.9810155, 77.6021329, 79.0], [13.0422794, 77.6248577, 76.0], [12.9931876, 77.5753419, 67.0], [12.9678074, 77.6568367, 66.0], [13.0221838, 77.5530824, 65.0], [13.031992, 77.6280789, 65.0], [12.9282918, 77.6254034, 62.0], [12.9758014, 77.6016924, 61.0], [12.8744383, 77.5579029, 60.0], [12.9822423, 77.608265, 59.0], [12.9722287, 77.5986661, 57.0], [13.037077, 77.6413572, 56.0], [12.9779079, 77.5723936, 55.0], [12.9148202, 77.6242204, 54.0], [12.9911804, 77.5448918, 53.0], [12.965718, 77.5762705, 50.0], [13.0227204, 77.595715, 44.0], [12.9846713, 77.6790908, 37.0], [12.9243692, 77.6242433, 36.0], [12.9660726, 77.6125941, 32.0], [12.9819637, 77.5766804, 31.0], [12.9625188, 77.7482173, 26.0], [12.9876393, 77.7377718, 21.0], [12.9578658, 77.6958748, 21.0], [12.9287596, 77.6287122, 20.0], [13.007516, 77.695935, 17.0], [13.0069152, 77.6882534, 17.0], [13.010316, 77.580569, 17.0], [12.8775874, 77.5445576, 16.0], [13.0394104, 77.5197351, 14.0], [12.9850987, 77.6631173, 14.0], [12.9055682, 77.5455438, 13.0], [12.9357366, 77.624081, 12.0], [12.9466619, 77.5300896, 9.0], [12.975608, 77.5553564, 9.0], [13.0621474, 77.5800614, 9.0], [12.9651215, 77.5090098, 8.0], [12.9878064, 77.5873926, 8.0], [12.9808755, 77.7088576, 8.0], [13.0222347, 77.5671832, 6.0], [13.0382184, 77.5919, 6.0], [13.0120218, 77.6777817, 6.0], [13.0784743, 77.6068938, 3.0], [12.9730087, 77.5804711, 2.0], [12.9274413, 77.5155224, 1.0], [12.9529035, 77.5158003, 1.0], [13.0330515, 77.5332233, 1.0]],\n",
       "                {\n",
       "  &quot;minOpacity&quot;: 0.5,\n",
       "  &quot;maxZoom&quot;: 18,\n",
       "  &quot;radius&quot;: 25,\n",
       "  &quot;blur&quot;: 15,\n",
       "}\n",
       "            );\n",
       "        \n",
       "    \n",
       "            heat_map_79541b252a032a63d2f8f62dc40bacda.addTo(map_88965adcdf92a315ac89df1bdaf2984a);\n",
       "        \n",
       "&lt;/script&gt;\n",
       "&lt;/html&gt;\" style=\"position:absolute;width:100%;height:100%;left:0;top:0;border:none !important;\" allowfullscreen webkitallowfullscreen mozallowfullscreen></iframe></div></div>"
      ],
      "text/plain": [
       "<folium.folium.Map at 0x26e36ba8950>"
      ]
     },
     "execution_count": 130,
     "metadata": {},
     "output_type": "execute_result"
    }
   ],
   "source": [
    "get_heatmap('Chinese')"
   ]
  },
  {
   "cell_type": "code",
   "execution_count": null,
   "id": "f312f90e-671d-491c-99eb-35f4537e3d7e",
   "metadata": {},
   "outputs": [],
   "source": []
  }
 ],
 "metadata": {
  "kernelspec": {
   "display_name": "Python 3 (ipykernel)",
   "language": "python",
   "name": "python3"
  },
  "language_info": {
   "codemirror_mode": {
    "name": "ipython",
    "version": 3
   },
   "file_extension": ".py",
   "mimetype": "text/x-python",
   "name": "python",
   "nbconvert_exporter": "python",
   "pygments_lexer": "ipython3",
   "version": "3.13.0"
  }
 },
 "nbformat": 4,
 "nbformat_minor": 5
}
